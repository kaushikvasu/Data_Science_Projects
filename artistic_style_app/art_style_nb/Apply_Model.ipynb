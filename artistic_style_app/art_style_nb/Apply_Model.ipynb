{
 "cells": [
  {
   "cell_type": "code",
   "execution_count": 15,
   "metadata": {
    "collapsed": false
   },
   "outputs": [],
   "source": [
    "from keras import backend as K\n",
    "from keras.utils.np_utils import convert_kernel\n",
    "\n",
    "from keras.models import Sequential\n",
    "from keras.layers.core import Flatten, Dense, Dropout\n",
    "from keras.layers.convolutional import Convolution2D, MaxPooling2D, ZeroPadding2D\n",
    "from keras.optimizers import SGD\n",
    "import cv2, numpy as np\n",
    "import pandas as pd\n",
    "\n",
    "from keras.models import load_model\n",
    "import json\n",
    "\n",
    "\n",
    "from __future__ import print_function\n",
    "from keras.preprocessing.image import load_img, img_to_array\n",
    "from scipy.misc import imsave\n",
    "from scipy.optimize import fmin_l_bfgs_b\n",
    "import time\n",
    "from PIL import Image\n",
    "import argparse\n",
    "\n",
    "from keras.applications import vgg16"
   ]
  },
  {
   "cell_type": "code",
   "execution_count": 2,
   "metadata": {
    "collapsed": true
   },
   "outputs": [],
   "source": [
    "def VGG_16(weights_path=None):\n",
    "    model = Sequential()\n",
    "    model.add(ZeroPadding2D((1,1),input_shape=(3,224,224)))\n",
    "    model.add(Convolution2D(64, 3, 3, activation='relu'))\n",
    "    model.add(ZeroPadding2D((1,1)))\n",
    "    model.add(Convolution2D(64, 3, 3, activation='relu'))\n",
    "    model.add(MaxPooling2D((2,2), strides=(2,2)))\n",
    "\n",
    "    model.add(ZeroPadding2D((1,1)))\n",
    "    model.add(Convolution2D(128, 3, 3, activation='relu'))\n",
    "    model.add(ZeroPadding2D((1,1)))\n",
    "    model.add(Convolution2D(128, 3, 3, activation='relu'))\n",
    "    model.add(MaxPooling2D((2,2), strides=(2,2)))\n",
    "\n",
    "    model.add(ZeroPadding2D((1,1)))\n",
    "    model.add(Convolution2D(256, 3, 3, activation='relu'))\n",
    "    model.add(ZeroPadding2D((1,1)))\n",
    "    model.add(Convolution2D(256, 3, 3, activation='relu'))\n",
    "    model.add(ZeroPadding2D((1,1)))\n",
    "    model.add(Convolution2D(256, 3, 3, activation='relu'))\n",
    "    model.add(MaxPooling2D((2,2), strides=(2,2)))\n",
    "\n",
    "    model.add(ZeroPadding2D((1,1)))\n",
    "    model.add(Convolution2D(512, 3, 3, activation='relu'))\n",
    "    model.add(ZeroPadding2D((1,1)))\n",
    "    model.add(Convolution2D(512, 3, 3, activation='relu'))\n",
    "    model.add(ZeroPadding2D((1,1)))\n",
    "    model.add(Convolution2D(512, 3, 3, activation='relu'))\n",
    "    model.add(MaxPooling2D((2,2), strides=(2,2)))\n",
    "\n",
    "    model.add(ZeroPadding2D((1,1)))\n",
    "    model.add(Convolution2D(512, 3, 3, activation='relu'))\n",
    "    model.add(ZeroPadding2D((1,1)))\n",
    "    model.add(Convolution2D(512, 3, 3, activation='relu'))\n",
    "    model.add(ZeroPadding2D((1,1)))\n",
    "    model.add(Convolution2D(512, 3, 3, activation='relu'))\n",
    "    model.add(MaxPooling2D((2,2), strides=(2,2)))\n",
    "\n",
    "    model.add(Flatten())\n",
    "    model.add(Dense(4096, activation='relu'))\n",
    "    model.add(Dropout(0.5))\n",
    "    model.add(Dense(4096, activation='relu'))\n",
    "    model.add(Dropout(0.5))\n",
    "    model.add(Dense(1000, activation='softmax'))\n",
    "\n",
    "    if weights_path:\n",
    "        model.load_weights(weights_path)\n",
    "\n",
    "    return model"
   ]
  },
  {
   "cell_type": "code",
   "execution_count": 3,
   "metadata": {
    "collapsed": true
   },
   "outputs": [],
   "source": [
    "synset = pd.read_csv('synset_words.txt', skipinitialspace=True, names = ['synset', 'words'])"
   ]
  },
  {
   "cell_type": "code",
   "execution_count": 4,
   "metadata": {
    "collapsed": true
   },
   "outputs": [],
   "source": [
    "\n",
    "def get_image():\n",
    "    retval, im = camera.read()\n",
    "    return im"
   ]
  },
  {
   "cell_type": "code",
   "execution_count": 5,
   "metadata": {
    "collapsed": false
   },
   "outputs": [
    {
     "name": "stdout",
     "output_type": "stream",
     "text": [
      "976\n",
      "n09399592 promontory\n"
     ]
    }
   ],
   "source": [
    "CAMERA = 0\n",
    "K.set_image_dim_ordering('th')\n",
    "\n",
    "if CAMERA:\n",
    "    camera_port = 0\n",
    "    ramp_frames = 30\n",
    " \n",
    "    camera = cv2.VideoCapture(camera_port)\n",
    "\n",
    "\n",
    "    for i in xrange(ramp_frames):\n",
    "        temp = get_image()\n",
    "    camera_capture = get_image()\n",
    "    \n",
    "    im = cv2.resize(camera_capture, (224, 224)).astype(np.float32)\n",
    "    file = \"/Users/lingqiangkong/repos/wip/vgg/test_image.png\"\n",
    "    cv2.imwrite(file, camera_capture)\n",
    "    del (camera)\n",
    "else: \n",
    "    im = cv2.resize(cv2.imread('../test_images/goldengate.jpg'), (224, 224)).astype(np.float32)\n",
    "\n",
    "im[:,:,0] -= 103.939\n",
    "im[:,:,1] -= 116.779\n",
    "im[:,:,2] -= 123.68\n",
    "im = im.transpose((2,0,1))\n",
    "im = np.expand_dims(im, axis=0)\n",
    "\n",
    "# Test pretrained model\n",
    "model = VGG_16('data/vgg16_weights.h5')\n",
    "sgd = SGD(lr=0.1, decay=1e-6, momentum=0.9, nesterov=True)\n",
    "model.compile(optimizer=sgd, loss='categorical_crossentropy')\n",
    "out = model.predict(im)\n",
    "y_pred = np.argmax(out)\n",
    "print (y_pred)\n",
    "\n",
    "print (synset.loc[y_pred].synset)"
   ]
  },
  {
   "cell_type": "code",
   "execution_count": 9,
   "metadata": {
    "collapsed": false
   },
   "outputs": [
    {
     "name": "stderr",
     "output_type": "stream",
     "text": [
      "/home/icarus/anaconda2/lib/python2.7/site-packages/keras/models.py:136: UserWarning: No training configuration found in save file: the model was *not* compiled. Compile it manually.\n",
      "  warnings.warn('No training configuration found in save file: '\n"
     ]
    }
   ],
   "source": [
    "starry_model_after = load_model('../models/my_model_after.h5')\n",
    "starry_model_before= load_model('../models/my_model_before.h5')"
   ]
  },
  {
   "cell_type": "code",
   "execution_count": 18,
   "metadata": {
    "collapsed": false
   },
   "outputs": [],
   "source": [
    "with open('../models/my_model_before.json') as data_file:    \n",
    "    structure_before = json.load(data_file)\n",
    "with open('../models/my_model_after.json') as data_file:    \n",
    "    structure_after = json.load(data_file)"
   ]
  },
  {
   "cell_type": "code",
   "execution_count": 19,
   "metadata": {
    "collapsed": false
   },
   "outputs": [
    {
     "data": {
      "text/plain": [
       "u'{\"class_name\": \"Model\", \"keras_version\": \"1.1.0\", \"config\": {\"layers\": [{\"class_name\": \"InputLayer\", \"config\": {\"batch_input_shape\": [null, null, null, 3], \"input_dtype\": \"float32\", \"sparse\": false, \"name\": \"input_1\"}, \"inbound_nodes\": [], \"name\": \"input_1\"}, {\"class_name\": \"Convolution2D\", \"config\": {\"W_constraint\": null, \"b_constraint\": null, \"name\": \"block1_conv1\", \"activity_regularizer\": null, \"trainable\": true, \"dim_ordering\": \"tf\", \"nb_col\": 3, \"subsample\": [1, 1], \"init\": \"glorot_uniform\", \"bias\": true, \"nb_filter\": 64, \"border_mode\": \"same\", \"b_regularizer\": null, \"W_regularizer\": null, \"activation\": \"relu\", \"nb_row\": 3}, \"inbound_nodes\": [[[\"input_1\", 0, 0]]], \"name\": \"block1_conv1\"}, {\"class_name\": \"Convolution2D\", \"config\": {\"W_constraint\": null, \"b_constraint\": null, \"name\": \"block1_conv2\", \"activity_regularizer\": null, \"trainable\": true, \"dim_ordering\": \"tf\", \"nb_col\": 3, \"subsample\": [1, 1], \"init\": \"glorot_uniform\", \"bias\": true, \"nb_filter\": 64, \"border_mode\": \"same\", \"b_regularizer\": null, \"W_regularizer\": null, \"activation\": \"relu\", \"nb_row\": 3}, \"inbound_nodes\": [[[\"block1_conv1\", 0, 0]]], \"name\": \"block1_conv2\"}, {\"class_name\": \"MaxPooling2D\", \"config\": {\"name\": \"block1_pool\", \"trainable\": true, \"dim_ordering\": \"tf\", \"pool_size\": [2, 2], \"strides\": [2, 2], \"border_mode\": \"valid\"}, \"inbound_nodes\": [[[\"block1_conv2\", 0, 0]]], \"name\": \"block1_pool\"}, {\"class_name\": \"Convolution2D\", \"config\": {\"W_constraint\": null, \"b_constraint\": null, \"name\": \"block2_conv1\", \"activity_regularizer\": null, \"trainable\": true, \"dim_ordering\": \"tf\", \"nb_col\": 3, \"subsample\": [1, 1], \"init\": \"glorot_uniform\", \"bias\": true, \"nb_filter\": 128, \"border_mode\": \"same\", \"b_regularizer\": null, \"W_regularizer\": null, \"activation\": \"relu\", \"nb_row\": 3}, \"inbound_nodes\": [[[\"block1_pool\", 0, 0]]], \"name\": \"block2_conv1\"}, {\"class_name\": \"Convolution2D\", \"config\": {\"W_constraint\": null, \"b_constraint\": null, \"name\": \"block2_conv2\", \"activity_regularizer\": null, \"trainable\": true, \"dim_ordering\": \"tf\", \"nb_col\": 3, \"subsample\": [1, 1], \"init\": \"glorot_uniform\", \"bias\": true, \"nb_filter\": 128, \"border_mode\": \"same\", \"b_regularizer\": null, \"W_regularizer\": null, \"activation\": \"relu\", \"nb_row\": 3}, \"inbound_nodes\": [[[\"block2_conv1\", 0, 0]]], \"name\": \"block2_conv2\"}, {\"class_name\": \"MaxPooling2D\", \"config\": {\"name\": \"block2_pool\", \"trainable\": true, \"dim_ordering\": \"tf\", \"pool_size\": [2, 2], \"strides\": [2, 2], \"border_mode\": \"valid\"}, \"inbound_nodes\": [[[\"block2_conv2\", 0, 0]]], \"name\": \"block2_pool\"}, {\"class_name\": \"Convolution2D\", \"config\": {\"W_constraint\": null, \"b_constraint\": null, \"name\": \"block3_conv1\", \"activity_regularizer\": null, \"trainable\": true, \"dim_ordering\": \"tf\", \"nb_col\": 3, \"subsample\": [1, 1], \"init\": \"glorot_uniform\", \"bias\": true, \"nb_filter\": 256, \"border_mode\": \"same\", \"b_regularizer\": null, \"W_regularizer\": null, \"activation\": \"relu\", \"nb_row\": 3}, \"inbound_nodes\": [[[\"block2_pool\", 0, 0]]], \"name\": \"block3_conv1\"}, {\"class_name\": \"Convolution2D\", \"config\": {\"W_constraint\": null, \"b_constraint\": null, \"name\": \"block3_conv2\", \"activity_regularizer\": null, \"trainable\": true, \"dim_ordering\": \"tf\", \"nb_col\": 3, \"subsample\": [1, 1], \"init\": \"glorot_uniform\", \"bias\": true, \"nb_filter\": 256, \"border_mode\": \"same\", \"b_regularizer\": null, \"W_regularizer\": null, \"activation\": \"relu\", \"nb_row\": 3}, \"inbound_nodes\": [[[\"block3_conv1\", 0, 0]]], \"name\": \"block3_conv2\"}, {\"class_name\": \"Convolution2D\", \"config\": {\"W_constraint\": null, \"b_constraint\": null, \"name\": \"block3_conv3\", \"activity_regularizer\": null, \"trainable\": true, \"dim_ordering\": \"tf\", \"nb_col\": 3, \"subsample\": [1, 1], \"init\": \"glorot_uniform\", \"bias\": true, \"nb_filter\": 256, \"border_mode\": \"same\", \"b_regularizer\": null, \"W_regularizer\": null, \"activation\": \"relu\", \"nb_row\": 3}, \"inbound_nodes\": [[[\"block3_conv2\", 0, 0]]], \"name\": \"block3_conv3\"}, {\"class_name\": \"MaxPooling2D\", \"config\": {\"name\": \"block3_pool\", \"trainable\": true, \"dim_ordering\": \"tf\", \"pool_size\": [2, 2], \"strides\": [2, 2], \"border_mode\": \"valid\"}, \"inbound_nodes\": [[[\"block3_conv3\", 0, 0]]], \"name\": \"block3_pool\"}, {\"class_name\": \"Convolution2D\", \"config\": {\"W_constraint\": null, \"b_constraint\": null, \"name\": \"block4_conv1\", \"activity_regularizer\": null, \"trainable\": true, \"dim_ordering\": \"tf\", \"nb_col\": 3, \"subsample\": [1, 1], \"init\": \"glorot_uniform\", \"bias\": true, \"nb_filter\": 512, \"border_mode\": \"same\", \"b_regularizer\": null, \"W_regularizer\": null, \"activation\": \"relu\", \"nb_row\": 3}, \"inbound_nodes\": [[[\"block3_pool\", 0, 0]]], \"name\": \"block4_conv1\"}, {\"class_name\": \"Convolution2D\", \"config\": {\"W_constraint\": null, \"b_constraint\": null, \"name\": \"block4_conv2\", \"activity_regularizer\": null, \"trainable\": true, \"dim_ordering\": \"tf\", \"nb_col\": 3, \"subsample\": [1, 1], \"init\": \"glorot_uniform\", \"bias\": true, \"nb_filter\": 512, \"border_mode\": \"same\", \"b_regularizer\": null, \"W_regularizer\": null, \"activation\": \"relu\", \"nb_row\": 3}, \"inbound_nodes\": [[[\"block4_conv1\", 0, 0]]], \"name\": \"block4_conv2\"}, {\"class_name\": \"Convolution2D\", \"config\": {\"W_constraint\": null, \"b_constraint\": null, \"name\": \"block4_conv3\", \"activity_regularizer\": null, \"trainable\": true, \"dim_ordering\": \"tf\", \"nb_col\": 3, \"subsample\": [1, 1], \"init\": \"glorot_uniform\", \"bias\": true, \"nb_filter\": 512, \"border_mode\": \"same\", \"b_regularizer\": null, \"W_regularizer\": null, \"activation\": \"relu\", \"nb_row\": 3}, \"inbound_nodes\": [[[\"block4_conv2\", 0, 0]]], \"name\": \"block4_conv3\"}, {\"class_name\": \"MaxPooling2D\", \"config\": {\"name\": \"block4_pool\", \"trainable\": true, \"dim_ordering\": \"tf\", \"pool_size\": [2, 2], \"strides\": [2, 2], \"border_mode\": \"valid\"}, \"inbound_nodes\": [[[\"block4_conv3\", 0, 0]]], \"name\": \"block4_pool\"}, {\"class_name\": \"Convolution2D\", \"config\": {\"W_constraint\": null, \"b_constraint\": null, \"name\": \"block5_conv1\", \"activity_regularizer\": null, \"trainable\": true, \"dim_ordering\": \"tf\", \"nb_col\": 3, \"subsample\": [1, 1], \"init\": \"glorot_uniform\", \"bias\": true, \"nb_filter\": 512, \"border_mode\": \"same\", \"b_regularizer\": null, \"W_regularizer\": null, \"activation\": \"relu\", \"nb_row\": 3}, \"inbound_nodes\": [[[\"block4_pool\", 0, 0]]], \"name\": \"block5_conv1\"}, {\"class_name\": \"Convolution2D\", \"config\": {\"W_constraint\": null, \"b_constraint\": null, \"name\": \"block5_conv2\", \"activity_regularizer\": null, \"trainable\": true, \"dim_ordering\": \"tf\", \"nb_col\": 3, \"subsample\": [1, 1], \"init\": \"glorot_uniform\", \"bias\": true, \"nb_filter\": 512, \"border_mode\": \"same\", \"b_regularizer\": null, \"W_regularizer\": null, \"activation\": \"relu\", \"nb_row\": 3}, \"inbound_nodes\": [[[\"block5_conv1\", 0, 0]]], \"name\": \"block5_conv2\"}, {\"class_name\": \"Convolution2D\", \"config\": {\"W_constraint\": null, \"b_constraint\": null, \"name\": \"block5_conv3\", \"activity_regularizer\": null, \"trainable\": true, \"dim_ordering\": \"tf\", \"nb_col\": 3, \"subsample\": [1, 1], \"init\": \"glorot_uniform\", \"bias\": true, \"nb_filter\": 512, \"border_mode\": \"same\", \"b_regularizer\": null, \"W_regularizer\": null, \"activation\": \"relu\", \"nb_row\": 3}, \"inbound_nodes\": [[[\"block5_conv2\", 0, 0]]], \"name\": \"block5_conv3\"}, {\"class_name\": \"MaxPooling2D\", \"config\": {\"name\": \"block5_pool\", \"trainable\": true, \"dim_ordering\": \"tf\", \"pool_size\": [2, 2], \"strides\": [2, 2], \"border_mode\": \"valid\"}, \"inbound_nodes\": [[[\"block5_conv3\", 0, 0]]], \"name\": \"block5_pool\"}], \"input_layers\": [[\"input_1\", 0, 0]], \"output_layers\": [[\"block5_pool\", 0, 0]], \"name\": \"model_1\"}}'"
      ]
     },
     "execution_count": 19,
     "metadata": {},
     "output_type": "execute_result"
    }
   ],
   "source": [
    "structure_after"
   ]
  },
  {
   "cell_type": "code",
   "execution_count": 20,
   "metadata": {
    "collapsed": false
   },
   "outputs": [
    {
     "data": {
      "text/plain": [
       "u'{\"class_name\": \"Model\", \"keras_version\": \"1.1.0\", \"config\": {\"layers\": [{\"class_name\": \"InputLayer\", \"config\": {\"batch_input_shape\": [null, null, null, 3], \"input_dtype\": \"float32\", \"sparse\": false, \"name\": \"input_1\"}, \"inbound_nodes\": [], \"name\": \"input_1\"}, {\"class_name\": \"Convolution2D\", \"config\": {\"W_constraint\": null, \"b_constraint\": null, \"name\": \"block1_conv1\", \"activity_regularizer\": null, \"trainable\": true, \"dim_ordering\": \"tf\", \"nb_col\": 3, \"subsample\": [1, 1], \"init\": \"glorot_uniform\", \"bias\": true, \"nb_filter\": 64, \"border_mode\": \"same\", \"b_regularizer\": null, \"W_regularizer\": null, \"activation\": \"relu\", \"nb_row\": 3}, \"inbound_nodes\": [[[\"input_1\", 0, 0]]], \"name\": \"block1_conv1\"}, {\"class_name\": \"Convolution2D\", \"config\": {\"W_constraint\": null, \"b_constraint\": null, \"name\": \"block1_conv2\", \"activity_regularizer\": null, \"trainable\": true, \"dim_ordering\": \"tf\", \"nb_col\": 3, \"subsample\": [1, 1], \"init\": \"glorot_uniform\", \"bias\": true, \"nb_filter\": 64, \"border_mode\": \"same\", \"b_regularizer\": null, \"W_regularizer\": null, \"activation\": \"relu\", \"nb_row\": 3}, \"inbound_nodes\": [[[\"block1_conv1\", 0, 0]]], \"name\": \"block1_conv2\"}, {\"class_name\": \"MaxPooling2D\", \"config\": {\"name\": \"block1_pool\", \"trainable\": true, \"dim_ordering\": \"tf\", \"pool_size\": [2, 2], \"strides\": [2, 2], \"border_mode\": \"valid\"}, \"inbound_nodes\": [[[\"block1_conv2\", 0, 0]]], \"name\": \"block1_pool\"}, {\"class_name\": \"Convolution2D\", \"config\": {\"W_constraint\": null, \"b_constraint\": null, \"name\": \"block2_conv1\", \"activity_regularizer\": null, \"trainable\": true, \"dim_ordering\": \"tf\", \"nb_col\": 3, \"subsample\": [1, 1], \"init\": \"glorot_uniform\", \"bias\": true, \"nb_filter\": 128, \"border_mode\": \"same\", \"b_regularizer\": null, \"W_regularizer\": null, \"activation\": \"relu\", \"nb_row\": 3}, \"inbound_nodes\": [[[\"block1_pool\", 0, 0]]], \"name\": \"block2_conv1\"}, {\"class_name\": \"Convolution2D\", \"config\": {\"W_constraint\": null, \"b_constraint\": null, \"name\": \"block2_conv2\", \"activity_regularizer\": null, \"trainable\": true, \"dim_ordering\": \"tf\", \"nb_col\": 3, \"subsample\": [1, 1], \"init\": \"glorot_uniform\", \"bias\": true, \"nb_filter\": 128, \"border_mode\": \"same\", \"b_regularizer\": null, \"W_regularizer\": null, \"activation\": \"relu\", \"nb_row\": 3}, \"inbound_nodes\": [[[\"block2_conv1\", 0, 0]]], \"name\": \"block2_conv2\"}, {\"class_name\": \"MaxPooling2D\", \"config\": {\"name\": \"block2_pool\", \"trainable\": true, \"dim_ordering\": \"tf\", \"pool_size\": [2, 2], \"strides\": [2, 2], \"border_mode\": \"valid\"}, \"inbound_nodes\": [[[\"block2_conv2\", 0, 0]]], \"name\": \"block2_pool\"}, {\"class_name\": \"Convolution2D\", \"config\": {\"W_constraint\": null, \"b_constraint\": null, \"name\": \"block3_conv1\", \"activity_regularizer\": null, \"trainable\": true, \"dim_ordering\": \"tf\", \"nb_col\": 3, \"subsample\": [1, 1], \"init\": \"glorot_uniform\", \"bias\": true, \"nb_filter\": 256, \"border_mode\": \"same\", \"b_regularizer\": null, \"W_regularizer\": null, \"activation\": \"relu\", \"nb_row\": 3}, \"inbound_nodes\": [[[\"block2_pool\", 0, 0]]], \"name\": \"block3_conv1\"}, {\"class_name\": \"Convolution2D\", \"config\": {\"W_constraint\": null, \"b_constraint\": null, \"name\": \"block3_conv2\", \"activity_regularizer\": null, \"trainable\": true, \"dim_ordering\": \"tf\", \"nb_col\": 3, \"subsample\": [1, 1], \"init\": \"glorot_uniform\", \"bias\": true, \"nb_filter\": 256, \"border_mode\": \"same\", \"b_regularizer\": null, \"W_regularizer\": null, \"activation\": \"relu\", \"nb_row\": 3}, \"inbound_nodes\": [[[\"block3_conv1\", 0, 0]]], \"name\": \"block3_conv2\"}, {\"class_name\": \"Convolution2D\", \"config\": {\"W_constraint\": null, \"b_constraint\": null, \"name\": \"block3_conv3\", \"activity_regularizer\": null, \"trainable\": true, \"dim_ordering\": \"tf\", \"nb_col\": 3, \"subsample\": [1, 1], \"init\": \"glorot_uniform\", \"bias\": true, \"nb_filter\": 256, \"border_mode\": \"same\", \"b_regularizer\": null, \"W_regularizer\": null, \"activation\": \"relu\", \"nb_row\": 3}, \"inbound_nodes\": [[[\"block3_conv2\", 0, 0]]], \"name\": \"block3_conv3\"}, {\"class_name\": \"MaxPooling2D\", \"config\": {\"name\": \"block3_pool\", \"trainable\": true, \"dim_ordering\": \"tf\", \"pool_size\": [2, 2], \"strides\": [2, 2], \"border_mode\": \"valid\"}, \"inbound_nodes\": [[[\"block3_conv3\", 0, 0]]], \"name\": \"block3_pool\"}, {\"class_name\": \"Convolution2D\", \"config\": {\"W_constraint\": null, \"b_constraint\": null, \"name\": \"block4_conv1\", \"activity_regularizer\": null, \"trainable\": true, \"dim_ordering\": \"tf\", \"nb_col\": 3, \"subsample\": [1, 1], \"init\": \"glorot_uniform\", \"bias\": true, \"nb_filter\": 512, \"border_mode\": \"same\", \"b_regularizer\": null, \"W_regularizer\": null, \"activation\": \"relu\", \"nb_row\": 3}, \"inbound_nodes\": [[[\"block3_pool\", 0, 0]]], \"name\": \"block4_conv1\"}, {\"class_name\": \"Convolution2D\", \"config\": {\"W_constraint\": null, \"b_constraint\": null, \"name\": \"block4_conv2\", \"activity_regularizer\": null, \"trainable\": true, \"dim_ordering\": \"tf\", \"nb_col\": 3, \"subsample\": [1, 1], \"init\": \"glorot_uniform\", \"bias\": true, \"nb_filter\": 512, \"border_mode\": \"same\", \"b_regularizer\": null, \"W_regularizer\": null, \"activation\": \"relu\", \"nb_row\": 3}, \"inbound_nodes\": [[[\"block4_conv1\", 0, 0]]], \"name\": \"block4_conv2\"}, {\"class_name\": \"Convolution2D\", \"config\": {\"W_constraint\": null, \"b_constraint\": null, \"name\": \"block4_conv3\", \"activity_regularizer\": null, \"trainable\": true, \"dim_ordering\": \"tf\", \"nb_col\": 3, \"subsample\": [1, 1], \"init\": \"glorot_uniform\", \"bias\": true, \"nb_filter\": 512, \"border_mode\": \"same\", \"b_regularizer\": null, \"W_regularizer\": null, \"activation\": \"relu\", \"nb_row\": 3}, \"inbound_nodes\": [[[\"block4_conv2\", 0, 0]]], \"name\": \"block4_conv3\"}, {\"class_name\": \"MaxPooling2D\", \"config\": {\"name\": \"block4_pool\", \"trainable\": true, \"dim_ordering\": \"tf\", \"pool_size\": [2, 2], \"strides\": [2, 2], \"border_mode\": \"valid\"}, \"inbound_nodes\": [[[\"block4_conv3\", 0, 0]]], \"name\": \"block4_pool\"}, {\"class_name\": \"Convolution2D\", \"config\": {\"W_constraint\": null, \"b_constraint\": null, \"name\": \"block5_conv1\", \"activity_regularizer\": null, \"trainable\": true, \"dim_ordering\": \"tf\", \"nb_col\": 3, \"subsample\": [1, 1], \"init\": \"glorot_uniform\", \"bias\": true, \"nb_filter\": 512, \"border_mode\": \"same\", \"b_regularizer\": null, \"W_regularizer\": null, \"activation\": \"relu\", \"nb_row\": 3}, \"inbound_nodes\": [[[\"block4_pool\", 0, 0]]], \"name\": \"block5_conv1\"}, {\"class_name\": \"Convolution2D\", \"config\": {\"W_constraint\": null, \"b_constraint\": null, \"name\": \"block5_conv2\", \"activity_regularizer\": null, \"trainable\": true, \"dim_ordering\": \"tf\", \"nb_col\": 3, \"subsample\": [1, 1], \"init\": \"glorot_uniform\", \"bias\": true, \"nb_filter\": 512, \"border_mode\": \"same\", \"b_regularizer\": null, \"W_regularizer\": null, \"activation\": \"relu\", \"nb_row\": 3}, \"inbound_nodes\": [[[\"block5_conv1\", 0, 0]]], \"name\": \"block5_conv2\"}, {\"class_name\": \"Convolution2D\", \"config\": {\"W_constraint\": null, \"b_constraint\": null, \"name\": \"block5_conv3\", \"activity_regularizer\": null, \"trainable\": true, \"dim_ordering\": \"tf\", \"nb_col\": 3, \"subsample\": [1, 1], \"init\": \"glorot_uniform\", \"bias\": true, \"nb_filter\": 512, \"border_mode\": \"same\", \"b_regularizer\": null, \"W_regularizer\": null, \"activation\": \"relu\", \"nb_row\": 3}, \"inbound_nodes\": [[[\"block5_conv2\", 0, 0]]], \"name\": \"block5_conv3\"}, {\"class_name\": \"MaxPooling2D\", \"config\": {\"name\": \"block5_pool\", \"trainable\": true, \"dim_ordering\": \"tf\", \"pool_size\": [2, 2], \"strides\": [2, 2], \"border_mode\": \"valid\"}, \"inbound_nodes\": [[[\"block5_conv3\", 0, 0]]], \"name\": \"block5_pool\"}], \"input_layers\": [[\"input_1\", 0, 0]], \"output_layers\": [[\"block5_pool\", 0, 0]], \"name\": \"model_1\"}}'"
      ]
     },
     "execution_count": 20,
     "metadata": {},
     "output_type": "execute_result"
    }
   ],
   "source": [
    "structure_before"
   ]
  },
  {
   "cell_type": "code",
   "execution_count": null,
   "metadata": {
    "collapsed": true
   },
   "outputs": [],
   "source": []
  },
  {
   "cell_type": "code",
   "execution_count": null,
   "metadata": {
    "collapsed": true
   },
   "outputs": [],
   "source": []
  },
  {
   "cell_type": "code",
   "execution_count": 12,
   "metadata": {
    "collapsed": true
   },
   "outputs": [],
   "source": [
    "im2 = cv2.resize(cv2.imread('../test_images/goldengate.jpg'), (400, 400)).astype(np.float32)\n",
    "im2 = im2.transpose((2,0,1))\n",
    "im2 = np.expand_dims(im2, axis=0)"
   ]
  },
  {
   "cell_type": "code",
   "execution_count": 25,
   "metadata": {
    "collapsed": false
   },
   "outputs": [],
   "source": [
    "starry_model.load_weights('../models/my_model.h5')\n"
   ]
  },
  {
   "cell_type": "code",
   "execution_count": 27,
   "metadata": {
    "collapsed": false
   },
   "outputs": [
    {
     "data": {
      "text/plain": [
       "u'{\"class_name\": \"Model\", \"keras_version\": \"1.1.0\", \"config\": {\"layers\": [{\"class_name\": \"InputLayer\", \"config\": {\"batch_input_shape\": [null, null, null, 3], \"input_dtype\": \"float32\", \"sparse\": false, \"name\": \"input_1\"}, \"inbound_nodes\": [], \"name\": \"input_1\"}, {\"class_name\": \"Convolution2D\", \"config\": {\"W_constraint\": null, \"b_constraint\": null, \"name\": \"block1_conv1\", \"activity_regularizer\": null, \"trainable\": true, \"dim_ordering\": \"tf\", \"nb_col\": 3, \"subsample\": [1, 1], \"init\": \"glorot_uniform\", \"bias\": true, \"nb_filter\": 64, \"border_mode\": \"same\", \"b_regularizer\": null, \"W_regularizer\": null, \"activation\": \"relu\", \"nb_row\": 3}, \"inbound_nodes\": [[[\"input_1\", 0, 0]]], \"name\": \"block1_conv1\"}, {\"class_name\": \"Convolution2D\", \"config\": {\"W_constraint\": null, \"b_constraint\": null, \"name\": \"block1_conv2\", \"activity_regularizer\": null, \"trainable\": true, \"dim_ordering\": \"tf\", \"nb_col\": 3, \"subsample\": [1, 1], \"init\": \"glorot_uniform\", \"bias\": true, \"nb_filter\": 64, \"border_mode\": \"same\", \"b_regularizer\": null, \"W_regularizer\": null, \"activation\": \"relu\", \"nb_row\": 3}, \"inbound_nodes\": [[[\"block1_conv1\", 0, 0]]], \"name\": \"block1_conv2\"}, {\"class_name\": \"MaxPooling2D\", \"config\": {\"name\": \"block1_pool\", \"trainable\": true, \"dim_ordering\": \"tf\", \"pool_size\": [2, 2], \"strides\": [2, 2], \"border_mode\": \"valid\"}, \"inbound_nodes\": [[[\"block1_conv2\", 0, 0]]], \"name\": \"block1_pool\"}, {\"class_name\": \"Convolution2D\", \"config\": {\"W_constraint\": null, \"b_constraint\": null, \"name\": \"block2_conv1\", \"activity_regularizer\": null, \"trainable\": true, \"dim_ordering\": \"tf\", \"nb_col\": 3, \"subsample\": [1, 1], \"init\": \"glorot_uniform\", \"bias\": true, \"nb_filter\": 128, \"border_mode\": \"same\", \"b_regularizer\": null, \"W_regularizer\": null, \"activation\": \"relu\", \"nb_row\": 3}, \"inbound_nodes\": [[[\"block1_pool\", 0, 0]]], \"name\": \"block2_conv1\"}, {\"class_name\": \"Convolution2D\", \"config\": {\"W_constraint\": null, \"b_constraint\": null, \"name\": \"block2_conv2\", \"activity_regularizer\": null, \"trainable\": true, \"dim_ordering\": \"tf\", \"nb_col\": 3, \"subsample\": [1, 1], \"init\": \"glorot_uniform\", \"bias\": true, \"nb_filter\": 128, \"border_mode\": \"same\", \"b_regularizer\": null, \"W_regularizer\": null, \"activation\": \"relu\", \"nb_row\": 3}, \"inbound_nodes\": [[[\"block2_conv1\", 0, 0]]], \"name\": \"block2_conv2\"}, {\"class_name\": \"MaxPooling2D\", \"config\": {\"name\": \"block2_pool\", \"trainable\": true, \"dim_ordering\": \"tf\", \"pool_size\": [2, 2], \"strides\": [2, 2], \"border_mode\": \"valid\"}, \"inbound_nodes\": [[[\"block2_conv2\", 0, 0]]], \"name\": \"block2_pool\"}, {\"class_name\": \"Convolution2D\", \"config\": {\"W_constraint\": null, \"b_constraint\": null, \"name\": \"block3_conv1\", \"activity_regularizer\": null, \"trainable\": true, \"dim_ordering\": \"tf\", \"nb_col\": 3, \"subsample\": [1, 1], \"init\": \"glorot_uniform\", \"bias\": true, \"nb_filter\": 256, \"border_mode\": \"same\", \"b_regularizer\": null, \"W_regularizer\": null, \"activation\": \"relu\", \"nb_row\": 3}, \"inbound_nodes\": [[[\"block2_pool\", 0, 0]]], \"name\": \"block3_conv1\"}, {\"class_name\": \"Convolution2D\", \"config\": {\"W_constraint\": null, \"b_constraint\": null, \"name\": \"block3_conv2\", \"activity_regularizer\": null, \"trainable\": true, \"dim_ordering\": \"tf\", \"nb_col\": 3, \"subsample\": [1, 1], \"init\": \"glorot_uniform\", \"bias\": true, \"nb_filter\": 256, \"border_mode\": \"same\", \"b_regularizer\": null, \"W_regularizer\": null, \"activation\": \"relu\", \"nb_row\": 3}, \"inbound_nodes\": [[[\"block3_conv1\", 0, 0]]], \"name\": \"block3_conv2\"}, {\"class_name\": \"Convolution2D\", \"config\": {\"W_constraint\": null, \"b_constraint\": null, \"name\": \"block3_conv3\", \"activity_regularizer\": null, \"trainable\": true, \"dim_ordering\": \"tf\", \"nb_col\": 3, \"subsample\": [1, 1], \"init\": \"glorot_uniform\", \"bias\": true, \"nb_filter\": 256, \"border_mode\": \"same\", \"b_regularizer\": null, \"W_regularizer\": null, \"activation\": \"relu\", \"nb_row\": 3}, \"inbound_nodes\": [[[\"block3_conv2\", 0, 0]]], \"name\": \"block3_conv3\"}, {\"class_name\": \"MaxPooling2D\", \"config\": {\"name\": \"block3_pool\", \"trainable\": true, \"dim_ordering\": \"tf\", \"pool_size\": [2, 2], \"strides\": [2, 2], \"border_mode\": \"valid\"}, \"inbound_nodes\": [[[\"block3_conv3\", 0, 0]]], \"name\": \"block3_pool\"}, {\"class_name\": \"Convolution2D\", \"config\": {\"W_constraint\": null, \"b_constraint\": null, \"name\": \"block4_conv1\", \"activity_regularizer\": null, \"trainable\": true, \"dim_ordering\": \"tf\", \"nb_col\": 3, \"subsample\": [1, 1], \"init\": \"glorot_uniform\", \"bias\": true, \"nb_filter\": 512, \"border_mode\": \"same\", \"b_regularizer\": null, \"W_regularizer\": null, \"activation\": \"relu\", \"nb_row\": 3}, \"inbound_nodes\": [[[\"block3_pool\", 0, 0]]], \"name\": \"block4_conv1\"}, {\"class_name\": \"Convolution2D\", \"config\": {\"W_constraint\": null, \"b_constraint\": null, \"name\": \"block4_conv2\", \"activity_regularizer\": null, \"trainable\": true, \"dim_ordering\": \"tf\", \"nb_col\": 3, \"subsample\": [1, 1], \"init\": \"glorot_uniform\", \"bias\": true, \"nb_filter\": 512, \"border_mode\": \"same\", \"b_regularizer\": null, \"W_regularizer\": null, \"activation\": \"relu\", \"nb_row\": 3}, \"inbound_nodes\": [[[\"block4_conv1\", 0, 0]]], \"name\": \"block4_conv2\"}, {\"class_name\": \"Convolution2D\", \"config\": {\"W_constraint\": null, \"b_constraint\": null, \"name\": \"block4_conv3\", \"activity_regularizer\": null, \"trainable\": true, \"dim_ordering\": \"tf\", \"nb_col\": 3, \"subsample\": [1, 1], \"init\": \"glorot_uniform\", \"bias\": true, \"nb_filter\": 512, \"border_mode\": \"same\", \"b_regularizer\": null, \"W_regularizer\": null, \"activation\": \"relu\", \"nb_row\": 3}, \"inbound_nodes\": [[[\"block4_conv2\", 0, 0]]], \"name\": \"block4_conv3\"}, {\"class_name\": \"MaxPooling2D\", \"config\": {\"name\": \"block4_pool\", \"trainable\": true, \"dim_ordering\": \"tf\", \"pool_size\": [2, 2], \"strides\": [2, 2], \"border_mode\": \"valid\"}, \"inbound_nodes\": [[[\"block4_conv3\", 0, 0]]], \"name\": \"block4_pool\"}, {\"class_name\": \"Convolution2D\", \"config\": {\"W_constraint\": null, \"b_constraint\": null, \"name\": \"block5_conv1\", \"activity_regularizer\": null, \"trainable\": true, \"dim_ordering\": \"tf\", \"nb_col\": 3, \"subsample\": [1, 1], \"init\": \"glorot_uniform\", \"bias\": true, \"nb_filter\": 512, \"border_mode\": \"same\", \"b_regularizer\": null, \"W_regularizer\": null, \"activation\": \"relu\", \"nb_row\": 3}, \"inbound_nodes\": [[[\"block4_pool\", 0, 0]]], \"name\": \"block5_conv1\"}, {\"class_name\": \"Convolution2D\", \"config\": {\"W_constraint\": null, \"b_constraint\": null, \"name\": \"block5_conv2\", \"activity_regularizer\": null, \"trainable\": true, \"dim_ordering\": \"tf\", \"nb_col\": 3, \"subsample\": [1, 1], \"init\": \"glorot_uniform\", \"bias\": true, \"nb_filter\": 512, \"border_mode\": \"same\", \"b_regularizer\": null, \"W_regularizer\": null, \"activation\": \"relu\", \"nb_row\": 3}, \"inbound_nodes\": [[[\"block5_conv1\", 0, 0]]], \"name\": \"block5_conv2\"}, {\"class_name\": \"Convolution2D\", \"config\": {\"W_constraint\": null, \"b_constraint\": null, \"name\": \"block5_conv3\", \"activity_regularizer\": null, \"trainable\": true, \"dim_ordering\": \"tf\", \"nb_col\": 3, \"subsample\": [1, 1], \"init\": \"glorot_uniform\", \"bias\": true, \"nb_filter\": 512, \"border_mode\": \"same\", \"b_regularizer\": null, \"W_regularizer\": null, \"activation\": \"relu\", \"nb_row\": 3}, \"inbound_nodes\": [[[\"block5_conv2\", 0, 0]]], \"name\": \"block5_conv3\"}, {\"class_name\": \"MaxPooling2D\", \"config\": {\"name\": \"block5_pool\", \"trainable\": true, \"dim_ordering\": \"tf\", \"pool_size\": [2, 2], \"strides\": [2, 2], \"border_mode\": \"valid\"}, \"inbound_nodes\": [[[\"block5_conv3\", 0, 0]]], \"name\": \"block5_pool\"}], \"input_layers\": [[\"input_1\", 0, 0]], \"output_layers\": [[\"block5_pool\", 0, 0]], \"name\": \"model_1\"}}'"
      ]
     },
     "execution_count": 27,
     "metadata": {},
     "output_type": "execute_result"
    }
   ],
   "source": [
    "starry_Structure"
   ]
  },
  {
   "cell_type": "code",
   "execution_count": 14,
   "metadata": {
    "collapsed": false
   },
   "outputs": [
    {
     "ename": "Exception",
     "evalue": "Error when checking : expected input_1 to have shape (None, None, None, 3) but got array with shape (1, 3, 400, 400)",
     "output_type": "error",
     "traceback": [
      "\u001b[0;31m---------------------------------------------------------------------------\u001b[0m",
      "\u001b[0;31mException\u001b[0m                                 Traceback (most recent call last)",
      "\u001b[0;32m<ipython-input-14-2678cecfec5a>\u001b[0m in \u001b[0;36m<module>\u001b[0;34m()\u001b[0m\n\u001b[0;32m----> 1\u001b[0;31m \u001b[0mstarry_model_before\u001b[0m\u001b[0;34m.\u001b[0m\u001b[0mpredict\u001b[0m\u001b[0;34m(\u001b[0m\u001b[0mim2\u001b[0m\u001b[0;34m)\u001b[0m\u001b[0;34m\u001b[0m\u001b[0m\n\u001b[0m",
      "\u001b[0;32m/home/icarus/anaconda2/lib/python2.7/site-packages/keras/engine/training.pyc\u001b[0m in \u001b[0;36mpredict\u001b[0;34m(self, x, batch_size, verbose)\u001b[0m\n\u001b[1;32m   1177\u001b[0m         x = standardize_input_data(x, self.input_names,\n\u001b[1;32m   1178\u001b[0m                                    \u001b[0mself\u001b[0m\u001b[0;34m.\u001b[0m\u001b[0minternal_input_shapes\u001b[0m\u001b[0;34m,\u001b[0m\u001b[0;34m\u001b[0m\u001b[0m\n\u001b[0;32m-> 1179\u001b[0;31m                                    check_batch_dim=False)\n\u001b[0m\u001b[1;32m   1180\u001b[0m         \u001b[0;32mif\u001b[0m \u001b[0mself\u001b[0m\u001b[0;34m.\u001b[0m\u001b[0mstateful\u001b[0m\u001b[0;34m:\u001b[0m\u001b[0;34m\u001b[0m\u001b[0m\n\u001b[1;32m   1181\u001b[0m             \u001b[0;32mif\u001b[0m \u001b[0mx\u001b[0m\u001b[0;34m[\u001b[0m\u001b[0;36m0\u001b[0m\u001b[0;34m]\u001b[0m\u001b[0;34m.\u001b[0m\u001b[0mshape\u001b[0m\u001b[0;34m[\u001b[0m\u001b[0;36m0\u001b[0m\u001b[0;34m]\u001b[0m \u001b[0;34m>\u001b[0m \u001b[0mbatch_size\u001b[0m \u001b[0;32mand\u001b[0m \u001b[0mx\u001b[0m\u001b[0;34m[\u001b[0m\u001b[0;36m0\u001b[0m\u001b[0;34m]\u001b[0m\u001b[0;34m.\u001b[0m\u001b[0mshape\u001b[0m\u001b[0;34m[\u001b[0m\u001b[0;36m0\u001b[0m\u001b[0;34m]\u001b[0m \u001b[0;34m%\u001b[0m \u001b[0mbatch_size\u001b[0m \u001b[0;34m!=\u001b[0m \u001b[0;36m0\u001b[0m\u001b[0;34m:\u001b[0m\u001b[0;34m\u001b[0m\u001b[0m\n",
      "\u001b[0;32m/home/icarus/anaconda2/lib/python2.7/site-packages/keras/engine/training.pyc\u001b[0m in \u001b[0;36mstandardize_input_data\u001b[0;34m(data, names, shapes, check_batch_dim, exception_prefix)\u001b[0m\n\u001b[1;32m    109\u001b[0m                                         \u001b[0;34m' to have shape '\u001b[0m \u001b[0;34m+\u001b[0m \u001b[0mstr\u001b[0m\u001b[0;34m(\u001b[0m\u001b[0mshapes\u001b[0m\u001b[0;34m[\u001b[0m\u001b[0mi\u001b[0m\u001b[0;34m]\u001b[0m\u001b[0;34m)\u001b[0m \u001b[0;34m+\u001b[0m\u001b[0;34m\u001b[0m\u001b[0m\n\u001b[1;32m    110\u001b[0m                                         \u001b[0;34m' but got array with shape '\u001b[0m \u001b[0;34m+\u001b[0m\u001b[0;34m\u001b[0m\u001b[0m\n\u001b[0;32m--> 111\u001b[0;31m                                         str(array.shape))\n\u001b[0m\u001b[1;32m    112\u001b[0m     \u001b[0;32mreturn\u001b[0m \u001b[0marrays\u001b[0m\u001b[0;34m\u001b[0m\u001b[0m\n\u001b[1;32m    113\u001b[0m \u001b[0;34m\u001b[0m\u001b[0m\n",
      "\u001b[0;31mException\u001b[0m: Error when checking : expected input_1 to have shape (None, None, None, 3) but got array with shape (1, 3, 400, 400)"
     ]
    }
   ],
   "source": [
    "starry_model_before.predict(im2)"
   ]
  },
  {
   "cell_type": "code",
   "execution_count": 52,
   "metadata": {
    "collapsed": false
   },
   "outputs": [
    {
     "data": {
      "text/plain": [
       "<keras.layers.convolutional.ZeroPadding2D at 0x7f2e6f93f750>"
      ]
     },
     "execution_count": 52,
     "metadata": {},
     "output_type": "execute_result"
    }
   ],
   "source": [
    "model.layers[0]"
   ]
  },
  {
   "cell_type": "code",
   "execution_count": 53,
   "metadata": {
    "collapsed": false
   },
   "outputs": [
    {
     "data": {
      "text/plain": [
       "<keras.engine.topology.InputLayer at 0x7f2e76cb93d0>"
      ]
     },
     "execution_count": 53,
     "metadata": {},
     "output_type": "execute_result"
    }
   ],
   "source": [
    "starry_model.layers[0]"
   ]
  },
  {
   "cell_type": "code",
   "execution_count": 54,
   "metadata": {
    "collapsed": true
   },
   "outputs": [],
   "source": [
    "base_image = K.variable(np.random.random([1,3,224,224]))"
   ]
  },
  {
   "cell_type": "code",
   "execution_count": 55,
   "metadata": {
    "collapsed": true
   },
   "outputs": [],
   "source": [
    "style_reference_image = K.variable(np.random.random([1,3,224,224]))"
   ]
  },
  {
   "cell_type": "code",
   "execution_count": 56,
   "metadata": {
    "collapsed": true
   },
   "outputs": [],
   "source": [
    "combination_image = K.variable(np.random.random([1,3,224,224]))"
   ]
  },
  {
   "cell_type": "code",
   "execution_count": null,
   "metadata": {
    "collapsed": true
   },
   "outputs": [],
   "source": []
  },
  {
   "cell_type": "code",
   "execution_count": 57,
   "metadata": {
    "collapsed": true
   },
   "outputs": [],
   "source": [
    "input_tensor = K.concatenate([base_image,\n",
    "                              style_reference_image,\n",
    "                              combination_image], axis=0)"
   ]
  },
  {
   "cell_type": "code",
   "execution_count": 58,
   "metadata": {
    "collapsed": false
   },
   "outputs": [
    {
     "data": {
      "text/plain": [
       "array([  3,   3, 224, 224])"
      ]
     },
     "execution_count": 58,
     "metadata": {},
     "output_type": "execute_result"
    }
   ],
   "source": [
    "input_tensor.shape.eval()"
   ]
  },
  {
   "cell_type": "code",
   "execution_count": 59,
   "metadata": {
    "collapsed": false
   },
   "outputs": [
    {
     "ename": "TypeError",
     "evalue": "object of type 'TensorVariable' has no len()",
     "output_type": "error",
     "traceback": [
      "\u001b[0;31m---------------------------------------------------------------------------\u001b[0m",
      "\u001b[0;31mTypeError\u001b[0m                                 Traceback (most recent call last)",
      "\u001b[0;32m<ipython-input-59-c272a283008e>\u001b[0m in \u001b[0;36m<module>\u001b[0;34m()\u001b[0m\n\u001b[0;32m----> 1\u001b[0;31m \u001b[0mstarry_model\u001b[0m\u001b[0;34m.\u001b[0m\u001b[0mpredict\u001b[0m\u001b[0;34m(\u001b[0m\u001b[0minput_tensor\u001b[0m\u001b[0;34m)\u001b[0m\u001b[0;34m\u001b[0m\u001b[0m\n\u001b[0m",
      "\u001b[0;32m/home/icarus/anaconda2/lib/python2.7/site-packages/keras/engine/training.pyc\u001b[0m in \u001b[0;36mpredict\u001b[0;34m(self, x, batch_size, verbose)\u001b[0m\n\u001b[1;32m   1177\u001b[0m         x = standardize_input_data(x, self.input_names,\n\u001b[1;32m   1178\u001b[0m                                    \u001b[0mself\u001b[0m\u001b[0;34m.\u001b[0m\u001b[0minternal_input_shapes\u001b[0m\u001b[0;34m,\u001b[0m\u001b[0;34m\u001b[0m\u001b[0m\n\u001b[0;32m-> 1179\u001b[0;31m                                    check_batch_dim=False)\n\u001b[0m\u001b[1;32m   1180\u001b[0m         \u001b[0;32mif\u001b[0m \u001b[0mself\u001b[0m\u001b[0;34m.\u001b[0m\u001b[0mstateful\u001b[0m\u001b[0;34m:\u001b[0m\u001b[0;34m\u001b[0m\u001b[0m\n\u001b[1;32m   1181\u001b[0m             \u001b[0;32mif\u001b[0m \u001b[0mx\u001b[0m\u001b[0;34m[\u001b[0m\u001b[0;36m0\u001b[0m\u001b[0;34m]\u001b[0m\u001b[0;34m.\u001b[0m\u001b[0mshape\u001b[0m\u001b[0;34m[\u001b[0m\u001b[0;36m0\u001b[0m\u001b[0;34m]\u001b[0m \u001b[0;34m>\u001b[0m \u001b[0mbatch_size\u001b[0m \u001b[0;32mand\u001b[0m \u001b[0mx\u001b[0m\u001b[0;34m[\u001b[0m\u001b[0;36m0\u001b[0m\u001b[0;34m]\u001b[0m\u001b[0;34m.\u001b[0m\u001b[0mshape\u001b[0m\u001b[0;34m[\u001b[0m\u001b[0;36m0\u001b[0m\u001b[0;34m]\u001b[0m \u001b[0;34m%\u001b[0m \u001b[0mbatch_size\u001b[0m \u001b[0;34m!=\u001b[0m \u001b[0;36m0\u001b[0m\u001b[0;34m:\u001b[0m\u001b[0;34m\u001b[0m\u001b[0m\n",
      "\u001b[0;32m/home/icarus/anaconda2/lib/python2.7/site-packages/keras/engine/training.pyc\u001b[0m in \u001b[0;36mstandardize_input_data\u001b[0;34m(data, names, shapes, check_batch_dim, exception_prefix)\u001b[0m\n\u001b[1;32m     83\u001b[0m     \u001b[0;32mfor\u001b[0m \u001b[0mi\u001b[0m \u001b[0;32min\u001b[0m \u001b[0mrange\u001b[0m\u001b[0;34m(\u001b[0m\u001b[0mlen\u001b[0m\u001b[0;34m(\u001b[0m\u001b[0mnames\u001b[0m\u001b[0;34m)\u001b[0m\u001b[0;34m)\u001b[0m\u001b[0;34m:\u001b[0m\u001b[0;34m\u001b[0m\u001b[0m\n\u001b[1;32m     84\u001b[0m         \u001b[0marray\u001b[0m \u001b[0;34m=\u001b[0m \u001b[0marrays\u001b[0m\u001b[0;34m[\u001b[0m\u001b[0mi\u001b[0m\u001b[0;34m]\u001b[0m\u001b[0;34m\u001b[0m\u001b[0m\n\u001b[0;32m---> 85\u001b[0;31m         \u001b[0;32mif\u001b[0m \u001b[0mlen\u001b[0m\u001b[0;34m(\u001b[0m\u001b[0marray\u001b[0m\u001b[0;34m.\u001b[0m\u001b[0mshape\u001b[0m\u001b[0;34m)\u001b[0m \u001b[0;34m==\u001b[0m \u001b[0;36m1\u001b[0m\u001b[0;34m:\u001b[0m\u001b[0;34m\u001b[0m\u001b[0m\n\u001b[0m\u001b[1;32m     86\u001b[0m             \u001b[0marray\u001b[0m \u001b[0;34m=\u001b[0m \u001b[0mnp\u001b[0m\u001b[0;34m.\u001b[0m\u001b[0mexpand_dims\u001b[0m\u001b[0;34m(\u001b[0m\u001b[0marray\u001b[0m\u001b[0;34m,\u001b[0m \u001b[0;36m1\u001b[0m\u001b[0;34m)\u001b[0m\u001b[0;34m\u001b[0m\u001b[0m\n\u001b[1;32m     87\u001b[0m             \u001b[0marrays\u001b[0m\u001b[0;34m[\u001b[0m\u001b[0mi\u001b[0m\u001b[0;34m]\u001b[0m \u001b[0;34m=\u001b[0m \u001b[0marray\u001b[0m\u001b[0;34m\u001b[0m\u001b[0m\n",
      "\u001b[0;31mTypeError\u001b[0m: object of type 'TensorVariable' has no len()"
     ]
    }
   ],
   "source": [
    "starry_model.predict(input_tensor)"
   ]
  },
  {
   "cell_type": "code",
   "execution_count": null,
   "metadata": {
    "collapsed": true
   },
   "outputs": [],
   "source": []
  }
 ],
 "metadata": {
  "anaconda-cloud": {},
  "kernelspec": {
   "display_name": "Python [conda root]",
   "language": "python",
   "name": "conda-root-py"
  },
  "language_info": {
   "codemirror_mode": {
    "name": "ipython",
    "version": 2
   },
   "file_extension": ".py",
   "mimetype": "text/x-python",
   "name": "python",
   "nbconvert_exporter": "python",
   "pygments_lexer": "ipython2",
   "version": "2.7.12"
  }
 },
 "nbformat": 4,
 "nbformat_minor": 1
}
