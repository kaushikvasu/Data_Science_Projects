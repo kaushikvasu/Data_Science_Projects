{
 "cells": [
  {
   "cell_type": "code",
   "execution_count": null,
   "metadata": {
    "collapsed": false,
    "run_control": {
     "frozen": false,
     "read_only": false
    }
   },
   "outputs": [],
   "source": [
    "import re\n",
    "from sklearn.externals import joblib \n",
    "import pandas as pd\n",
    "import numpy as np\n",
    "import xgboost as xgb\n",
    "from sklearn.preprocessing import LabelEncoder\n",
    "\n",
    "df_applicant = pd.read_csv('loan_app_data.csv')\n",
    "df_applicant = df_applicant.replace(-1.0, np.nan)\n",
    "df_applicant = df_applicant.dropna()\n",
    "X = df_applicant.drop(['Accepted'], axis=1)\n",
    "y = df_applicant['Accepted']\n",
    "    \n",
    "X_nozip = X.drop(['zip_code'], axis=1)\n",
    "X_title = X_nozip['title']\n",
    "X_state = X_nozip['addr_state']\n",
    "X_emp = X_nozip['emp_length']\n",
    "X_numerical = X_nozip[['loan_amnt', 'dti']]\n",
    "enc = LabelEncoder()\n",
    "X_title = enc.fit_transform(X_title)\n",
    "X_state = enc.fit_transform(X_state)\n",
    "X_emp = enc.fit_transform(X_emp)\n",
    "X_title = pd.DataFrame(X_title)\n",
    "X_state = pd.DataFrame(X_state)\n",
    "X_emp = pd.DataFrame(X_emp)\n",
    "\n",
    "frames = [X_numerical, X_title, X_state, X_emp]\n",
    "X_final = pd.concat(frames, axis=1, join_axes=[X_title.index])\n",
    "columns = ['loan_amnt', 'dti', 'title', 'addr_state', 'emp_length']\n",
    "X_final.columns = columns\n",
    "\n",
    "gbm = xgb.XGBClassifier(max_depth = 2, n_estimators=200, learning_rate=0.1).fit(X_final, y)\n",
    "\n",
    "joblib.dump(gbm, 'models/loan_decision.pkl')"
   ]
  },
  {
   "cell_type": "code",
   "execution_count": null,
   "metadata": {
    "collapsed": true,
    "run_control": {
     "frozen": false,
     "read_only": false
    }
   },
   "outputs": [],
   "source": []
  }
 ],
 "metadata": {
  "anaconda-cloud": {},
  "kernelspec": {
   "display_name": "Python [conda root]",
   "language": "python",
   "name": "conda-root-py"
  },
  "language_info": {
   "codemirror_mode": {
    "name": "ipython",
    "version": 2
   },
   "file_extension": ".py",
   "mimetype": "text/x-python",
   "name": "python",
   "nbconvert_exporter": "python",
   "pygments_lexer": "ipython2",
   "version": "2.7.12"
  }
 },
 "nbformat": 4,
 "nbformat_minor": 1
}
