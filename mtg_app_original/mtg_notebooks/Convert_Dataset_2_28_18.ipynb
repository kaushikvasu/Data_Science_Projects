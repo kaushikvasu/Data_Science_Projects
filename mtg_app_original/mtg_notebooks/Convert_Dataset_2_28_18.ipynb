{
 "cells": [
  {
   "cell_type": "code",
   "execution_count": 1,
   "metadata": {
    "collapsed": true,
    "run_control": {
     "frozen": false,
     "read_only": false
    }
   },
   "outputs": [],
   "source": [
    "import pandas as pd"
   ]
  },
  {
   "cell_type": "code",
   "execution_count": 2,
   "metadata": {
    "collapsed": true
   },
   "outputs": [],
   "source": [
    "magic_dataset = \"../MagicDatasets/AllSets-x_1_21_18.json\""
   ]
  },
  {
   "cell_type": "code",
   "execution_count": 3,
   "metadata": {
    "collapsed": true
   },
   "outputs": [],
   "source": [
    "cols = ['artist','cmc','colorIdentity','colors','flavor','id','imageName','layout','manaCost'\n",
    "        'mciNumber','multiverseid','name','number','originalText','originalType','power','printings'\n",
    "        'rarity','rulings','subtypes','supertypes','text','toughness','type','types','variations']"
   ]
  },
  {
   "cell_type": "code",
   "execution_count": 4,
   "metadata": {},
   "outputs": [],
   "source": [
    "magic_cards_sets = pd.read_json(magic_dataset).reset_index()\n",
    "magic_codes = magic_cards_sets.iloc[4,:]\n",
    "set_names = magic_cards_sets.iloc[9,:]\n",
    "magic_cards = magic_cards_sets.iloc[4,:]\n",
    "main_df = pd.DataFrame(columns=cols)"
   ]
  },
  {
   "cell_type": "code",
   "execution_count": 5,
   "metadata": {},
   "outputs": [],
   "source": [
    "for i in range(1,len(magic_cards)):\n",
    "    set_dict = magic_cards[i]\n",
    "    for card in set_dict:\n",
    "        card.pop('foreignNames', None)\n",
    "        card.pop('legalities', None)\n",
    "    set_df = pd.DataFrame(set_dict)\n",
    "    frames = [main_df,set_df]\n",
    "    main_df = pd.concat(frames)"
   ]
  },
  {
   "cell_type": "code",
   "execution_count": 6,
   "metadata": {},
   "outputs": [],
   "source": [
    "main_df = main_df.fillna(\" \")"
   ]
  },
  {
   "cell_type": "code",
   "execution_count": 7,
   "metadata": {
    "collapsed": true
   },
   "outputs": [],
   "source": [
    "main_df.to_csv('/Users/KVASU/DataScience/github_projects/Data_Science_Projects/mtg_app_original/MagicDatasets/magic_2_28_18.csv',encoding='utf-8')\n",
    "\n"
   ]
  },
  {
   "cell_type": "code",
   "execution_count": 12,
   "metadata": {},
   "outputs": [],
   "source": [
    "main_df.to_csv('/Users/KVASU/DataScience/github_projects/Data_Science_Projects/mtg_app_original/magic_app/app/data/magic_cards_1_21_18.csv', encoding='utf-8')\n"
   ]
  },
  {
   "cell_type": "code",
   "execution_count": null,
   "metadata": {
    "collapsed": true
   },
   "outputs": [],
   "source": []
  }
 ],
 "metadata": {
  "anaconda-cloud": {},
  "kernelspec": {
   "display_name": "Python [conda root]",
   "language": "python",
   "name": "conda-root-py"
  },
  "language_info": {
   "codemirror_mode": {
    "name": "ipython",
    "version": 2
   },
   "file_extension": ".py",
   "mimetype": "text/x-python",
   "name": "python",
   "nbconvert_exporter": "python",
   "pygments_lexer": "ipython2",
   "version": "2.7.12"
  }
 },
 "nbformat": 4,
 "nbformat_minor": 1
}
