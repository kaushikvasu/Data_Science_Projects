{
 "cells": [
  {
   "cell_type": "code",
   "execution_count": 1,
   "metadata": {
    "collapsed": false,
    "run_control": {
     "frozen": false,
     "read_only": false
    }
   },
   "outputs": [
    {
     "name": "stderr",
     "output_type": "stream",
     "text": [
      "/Users/KVASU/anaconda2/lib/python2.7/site-packages/gensim/utils.py:1015: UserWarning: Pattern library is not installed, lemmatization won't be available.\n",
      "  warnings.warn(\"Pattern library is not installed, lemmatization won't be available.\")\n"
     ]
    }
   ],
   "source": [
    "from __future__ import print_function, division\n",
    "import pandas as pd \n",
    "import numpy as np\n",
    "from matplotlib import pyplot as plt\n",
    "%matplotlib inline\n",
    "\n",
    "from gensim import corpora, models, similarities, matutils\n",
    "\n",
    "from sklearn.feature_extraction.text import CountVectorizer, TfidfVectorizer\n",
    "from sklearn.neighbors import KNeighborsClassifier\n",
    "from sklearn.neighbors import NearestNeighbors\n",
    "import sklearn.metrics.pairwise as smp"
   ]
  },
  {
   "cell_type": "code",
   "execution_count": 2,
   "metadata": {
    "collapsed": false,
    "run_control": {
     "frozen": false,
     "read_only": false
    }
   },
   "outputs": [
    {
     "name": "stderr",
     "output_type": "stream",
     "text": [
      "/Users/KVASU/anaconda2/lib/python2.7/site-packages/IPython/core/interactiveshell.py:2717: DtypeWarning: Columns (26) have mixed types. Specify dtype option on import or set low_memory=False.\n",
      "  interactivity=interactivity, compiler=compiler, result=result)\n"
     ]
    }
   ],
   "source": [
    "magic_cards = pd.read_csv(\"../MagicDatasets/Magic_Pandas_DF\")"
   ]
  },
  {
   "cell_type": "code",
   "execution_count": 3,
   "metadata": {
    "collapsed": true,
    "run_control": {
     "frozen": false,
     "read_only": false
    }
   },
   "outputs": [],
   "source": [
    "magic_cards = magic_cards.drop(magic_cards.columns[0], axis=1)"
   ]
  },
  {
   "cell_type": "code",
   "execution_count": 44,
   "metadata": {
    "collapsed": false
   },
   "outputs": [
    {
     "name": "stdout",
     "output_type": "stream",
     "text": [
      "<class 'pandas.core.frame.DataFrame'>\n",
      "RangeIndex: 31705 entries, 0 to 31704\n",
      "Data columns (total 39 columns):\n",
      "artist               31704 non-null object\n",
      "border               22 non-null object\n",
      "cmc                  28226 non-null float64\n",
      "colorIdentity        26753 non-null object\n",
      "colors               25061 non-null object\n",
      "flavor               18801 non-null object\n",
      "hand                 116 non-null float64\n",
      "id                   31705 non-null object\n",
      "imageName            31705 non-null object\n",
      "layout               31705 non-null object\n",
      "life                 116 non-null float64\n",
      "loyalty              158 non-null float64\n",
      "manaCost             28153 non-null object\n",
      "manaCostmciNumber    0 non-null float64\n",
      "mciNumber            22546 non-null object\n",
      "multiverseid         29487 non-null float64\n",
      "name                 31705 non-null object\n",
      "names                351 non-null object\n",
      "number               25422 non-null object\n",
      "originalText         29120 non-null object\n",
      "originalType         29842 non-null object\n",
      "power                14821 non-null object\n",
      "printings            31705 non-null object\n",
      "printingsrarity      0 non-null float64\n",
      "rarity               31705 non-null object\n",
      "releaseDate          764 non-null object\n",
      "reserved             1097 non-null object\n",
      "rulings              14593 non-null object\n",
      "source               1839 non-null object\n",
      "starter              47 non-null object\n",
      "subtypes             19115 non-null object\n",
      "supertypes           2966 non-null object\n",
      "text                 29333 non-null object\n",
      "timeshifted          248 non-null object\n",
      "toughness            14821 non-null object\n",
      "type                 31699 non-null object\n",
      "types                31699 non-null object\n",
      "variations           1884 non-null object\n",
      "watermark            1687 non-null object\n",
      "dtypes: float64(7), object(32)\n",
      "memory usage: 9.4+ MB\n"
     ]
    }
   ],
   "source": [
    "magic_cards.info()"
   ]
  },
  {
   "cell_type": "markdown",
   "metadata": {},
   "source": [
    "# Create vectorized text fields"
   ]
  },
  {
   "cell_type": "code",
   "execution_count": 4,
   "metadata": {
    "collapsed": true,
    "run_control": {
     "frozen": false,
     "read_only": false
    }
   },
   "outputs": [],
   "source": [
    "magic_cards_fill = magic_cards.fillna(\" \")\n",
    "magic_cards_fill['combined_text'] = magic_cards_fill['name']+\" \"+magic_cards_fill['type']+\" \"+magic_cards_fill['colors']+\" \"+magic_cards_fill[\"text\"]+\" \"+magic_cards_fill[\"flavor\"]+\" \"+magic_cards_fill[\"rarity\"]\n",
    "magic_cards_s = magic_cards_fill['combined_text']\n",
    "magic_list = magic_cards_s.tolist\n",
    "magic_list = list(magic_cards_s)"
   ]
  },
  {
   "cell_type": "code",
   "execution_count": 5,
   "metadata": {
    "collapsed": true,
    "run_control": {
     "frozen": false,
     "read_only": false
    }
   },
   "outputs": [],
   "source": [
    "tfidf = TfidfVectorizer(stop_words=\"english\", \n",
    "                        token_pattern=\"\\\\b[a-zA-Z0-9][a-zA-Z0-9]+\\\\b\", \n",
    "                        min_df=10)\n"
   ]
  },
  {
   "cell_type": "code",
   "execution_count": 6,
   "metadata": {
    "collapsed": true,
    "run_control": {
     "frozen": false,
     "read_only": false
    }
   },
   "outputs": [],
   "source": [
    "tfidf_vecs = tfidf.fit_transform(magic_list)\n"
   ]
  },
  {
   "cell_type": "code",
   "execution_count": 7,
   "metadata": {
    "collapsed": true,
    "run_control": {
     "frozen": false,
     "read_only": false
    }
   },
   "outputs": [],
   "source": [
    "tfidif_df = pd.DataFrame(tfidf_vecs.todense(), \n",
    "             columns=tfidf.get_feature_names()\n",
    "            )"
   ]
  },
  {
   "cell_type": "markdown",
   "metadata": {},
   "source": [
    "# Other Features"
   ]
  },
  {
   "cell_type": "code",
   "execution_count": 8,
   "metadata": {
    "collapsed": false,
    "run_control": {
     "frozen": false,
     "read_only": false
    }
   },
   "outputs": [
    {
     "name": "stdout",
     "output_type": "stream",
     "text": [
      "<class 'pandas.core.frame.DataFrame'>\n",
      "RangeIndex: 31705 entries, 0 to 31704\n",
      "Data columns (total 4 columns):\n",
      "cmc          31705 non-null float64\n",
      "loyalty      31705 non-null float64\n",
      "power        31705 non-null object\n",
      "toughness    31705 non-null object\n",
      "dtypes: float64(2), object(2)\n",
      "memory usage: 990.9+ KB\n"
     ]
    }
   ],
   "source": [
    "new_cards = magic_cards\n",
    "new_cards = new_cards.fillna(0.0)\n",
    "\n",
    "magic_cards_fill_cut = new_cards.iloc[:,[2,11,21,34]]\n",
    "magic_cards_fill_cut.info()\n",
    "\n",
    "dummied_df = pd.get_dummies(magic_cards_fill_cut)"
   ]
  },
  {
   "cell_type": "code",
   "execution_count": 30,
   "metadata": {
    "collapsed": false
   },
   "outputs": [
    {
     "name": "stdout",
     "output_type": "stream",
     "text": [
      "<class 'pandas.core.frame.DataFrame'>\n",
      "RangeIndex: 31705 entries, 0 to 31704\n",
      "Data columns (total 80 columns):\n",
      "cmc_0.0          31705 non-null float64\n",
      "cmc_0.5          31705 non-null float64\n",
      "cmc_1.0          31705 non-null float64\n",
      "cmc_10.0         31705 non-null float64\n",
      "cmc_1000000.0    31705 non-null float64\n",
      "cmc_11.0         31705 non-null float64\n",
      "cmc_12.0         31705 non-null float64\n",
      "cmc_13.0         31705 non-null float64\n",
      "cmc_14.0         31705 non-null float64\n",
      "cmc_15.0         31705 non-null float64\n",
      "cmc_16.0         31705 non-null float64\n",
      "cmc_2.0          31705 non-null float64\n",
      "cmc_3.0          31705 non-null float64\n",
      "cmc_4.0          31705 non-null float64\n",
      "cmc_5.0          31705 non-null float64\n",
      "cmc_6.0          31705 non-null float64\n",
      "cmc_7.0          31705 non-null float64\n",
      "cmc_8.0          31705 non-null float64\n",
      "cmc_9.0          31705 non-null float64\n",
      "loyalty_0.0      31705 non-null float64\n",
      "loyalty_2.0      31705 non-null float64\n",
      "loyalty_3.0      31705 non-null float64\n",
      "loyalty_4.0      31705 non-null float64\n",
      "loyalty_5.0      31705 non-null float64\n",
      "loyalty_6.0      31705 non-null float64\n",
      "loyalty_7.0      31705 non-null float64\n",
      "power_*          31705 non-null float64\n",
      "power_*²         31705 non-null float64\n",
      "power_-1         31705 non-null float64\n",
      "power_.5         31705 non-null float64\n",
      "power_0          31705 non-null float64\n",
      "power_0.0        31705 non-null float64\n",
      "power_1          31705 non-null float64\n",
      "power_1+*        31705 non-null float64\n",
      "power_1.5        31705 non-null float64\n",
      "power_10         31705 non-null float64\n",
      "power_11         31705 non-null float64\n",
      "power_12         31705 non-null float64\n",
      "power_13         31705 non-null float64\n",
      "power_15         31705 non-null float64\n",
      "power_2          31705 non-null float64\n",
      "power_2+*        31705 non-null float64\n",
      "power_2.5        31705 non-null float64\n",
      "power_3          31705 non-null float64\n",
      "power_3.5        31705 non-null float64\n",
      "power_4          31705 non-null float64\n",
      "power_5          31705 non-null float64\n",
      "power_6          31705 non-null float64\n",
      "power_7          31705 non-null float64\n",
      "power_8          31705 non-null float64\n",
      "power_9          31705 non-null float64\n",
      "power_99         31705 non-null float64\n",
      "toughness_*      31705 non-null float64\n",
      "toughness_*²     31705 non-null float64\n",
      "toughness_-1     31705 non-null float64\n",
      "toughness_.5     31705 non-null float64\n",
      "toughness_0      31705 non-null float64\n",
      "toughness_0.0    31705 non-null float64\n",
      "toughness_1      31705 non-null float64\n",
      "toughness_1+*    31705 non-null float64\n",
      "toughness_1.5    31705 non-null float64\n",
      "toughness_10     31705 non-null float64\n",
      "toughness_11     31705 non-null float64\n",
      "toughness_12     31705 non-null float64\n",
      "toughness_13     31705 non-null float64\n",
      "toughness_14     31705 non-null float64\n",
      "toughness_15     31705 non-null float64\n",
      "toughness_2      31705 non-null float64\n",
      "toughness_2+*    31705 non-null float64\n",
      "toughness_2.5    31705 non-null float64\n",
      "toughness_3      31705 non-null float64\n",
      "toughness_3.5    31705 non-null float64\n",
      "toughness_4      31705 non-null float64\n",
      "toughness_5      31705 non-null float64\n",
      "toughness_6      31705 non-null float64\n",
      "toughness_7      31705 non-null float64\n",
      "toughness_7-*    31705 non-null float64\n",
      "toughness_8      31705 non-null float64\n",
      "toughness_9      31705 non-null float64\n",
      "toughness_99     31705 non-null float64\n",
      "dtypes: float64(80)\n",
      "memory usage: 19.4 MB\n"
     ]
    }
   ],
   "source": [
    "new_cards2 = magic_cards\n",
    "new_cards2 = new_cards2.fillna(0.0)\n",
    "magic_cards_fill_cut2 = new_cards2.iloc[:,[2,11,21,34]]\n",
    "\n",
    "new_df = magic_cards_fill_cut2.astype(str)\n",
    "dummied_df2 = pd.get_dummies(new_df)\n",
    "dummied_df2.info()"
   ]
  },
  {
   "cell_type": "markdown",
   "metadata": {},
   "source": [
    "# Combine dummied and vectorized df"
   ]
  },
  {
   "cell_type": "code",
   "execution_count": 31,
   "metadata": {
    "collapsed": true,
    "run_control": {
     "frozen": false,
     "read_only": false
    }
   },
   "outputs": [],
   "source": [
    "combined_df = pd.concat([dummied_df2, tfidif_df], axis=1, join_axes=[magic_cards_fill_cut.index])"
   ]
  },
  {
   "cell_type": "code",
   "execution_count": 32,
   "metadata": {
    "collapsed": false
   },
   "outputs": [
    {
     "data": {
      "text/plain": [
       "(31705, 4964)"
      ]
     },
     "execution_count": 32,
     "metadata": {},
     "output_type": "execute_result"
    }
   ],
   "source": [
    "combined_df.shape"
   ]
  },
  {
   "cell_type": "code",
   "execution_count": 33,
   "metadata": {
    "collapsed": true,
    "run_control": {
     "frozen": false,
     "read_only": false
    }
   },
   "outputs": [],
   "source": [
    "model = NearestNeighbors(n_neighbors=20,n_jobs=-1)"
   ]
  },
  {
   "cell_type": "code",
   "execution_count": 34,
   "metadata": {
    "collapsed": false,
    "run_control": {
     "frozen": false,
     "read_only": false
    }
   },
   "outputs": [],
   "source": [
    "knn = model.fit(combined_df)"
   ]
  },
  {
   "cell_type": "markdown",
   "metadata": {
    "collapsed": true,
    "run_control": {
     "frozen": false,
     "read_only": false
    }
   },
   "source": [
    "# Setting up Dictionary and other stuff"
   ]
  },
  {
   "cell_type": "code",
   "execution_count": 90,
   "metadata": {
    "collapsed": true,
    "run_control": {
     "frozen": false,
     "read_only": false
    }
   },
   "outputs": [],
   "source": [
    "set_dict = {\n",
    "    \"[10E]\" : \"Tenth-Edition\", \"[2ED]\" : \"Unlimited\", \"[3ED]\" : \"Revised\", \"[4ED]\" : \"Fourth-Edition\",\n",
    "    \"[5DN]\" : \"Fifth-Dawn\", \"[5ED]\" : \"Fifth-Edition\", \"[6ED]\" : \"Sixth-Edition\", \"[7ED]\" : \"Seventh-Edition\",\n",
    "    \"[8ED]\" : \"Eighth-Edition\", \"[9ED]\" : \"Ninth-Edition\", \"[ALA]\" : \"Shards-of-Alara\", \"[ALL]\" : \"Alliances\",\n",
    "    \"[APC]\" : \"Apocalypse\", \"[ARB]\" : \"Alara-Reborn\", \"[ARC]\" : \"Archenemy\", \"[ARN]\" : \"Arabian-Nights\",\n",
    "    \"[ATQ]\" : \"Aniquities\", \"[AVR]\" : \"Avacyn-Restored\", \"[BFZ]\" : \"Battle-for-Zendikar\", \n",
    "    \"[BNG]\" : \"Born-of-the-Gods\", \"[BOK]\" : \"Betrayers-of-Kamigawa\", \"[BRB]\" : \"Battle-Royale\", \"[BTB]\" : \"Beatdown\",              \"[C13]\" : \"Commander 2013\",\n",
    "    \"[C14]\" : \"Commander-2014\", \"[C15]\" : \"Commander-2015\", \"[CED]\" : \"Collectors'-Edition\",\n",
    "    \"[CEI]\" : \"International-Edition\", \"[CHK]\" : \"Champions-of-Kamigawa\", \"[CHR]\" : \"Chronicles\",\n",
    "    \"[CM1]\" : \"Commander's-Arsenal\", \"[CMD]\" : \"Commander\", \"[C13]\" : \"Commander-2013\",\n",
    "    \"[DD2]\" : \"Duel Decks: Jace vs. Chandra\", \"[DD3_DVD]\" : \"Duel Decks: Divine vs. Demonic\", \n",
    "    \"[DD3_EVG]\" : \"Duel Decks: Elves vs. Goblins\", \"[DD3_GVL]\" : \"Duel Decks: Garruk vs. Liliana\",\n",
    "    \"[DD3_JVC]\" : \"Duel Decks: Jace vs. Chandra\", \"[DDC]\" : \"Duel Decks: Divine vs. Demonic\",\n",
    "    \"[DDD]\" : \"Duel Decks: Garruk vs. Liliana\", \"[DDF]\" : \"Duel Decks: Elspeth vs. Tezzeret\",\n",
    "    \"[DDG]\" : \"Duel Decks: Knights vs. Dragons\", \"[DDH]\" : \"Duel Deck: Ajani vs. Nicol Bolas\",\n",
    "    \"[DDI]\" : \"Duel Decks: Venser vs. Koth\", \"[DDJ]\" : \"Duel Decks: Izzet vs. Golgari\", \n",
    "    \"[DDK]\" : \"Duel Decks: Sorin vs. Tibalt\", \"[DDL]\" : \"Duel Decks: Heroes vs. Monsters\",\n",
    "    \"[DDO]\" : \"Duel Decks: Elspeth vs. Kiora\", \"[DKA]\" : \"Dark-Ascension\", \"[FVD]\" : \"From-the-Vault:-Dragons\",\n",
    "    \"[DRK]\" : \"The-Dark\", \"[DTK]\" : \"Dragons-of-Tarkir\", \"[EVE]\" : \"Eventide\", \"[EVG]\" : \"Duel Decks: Elves vs. Goblins\",\n",
    "    \"[EXO]\" : \"Exodus\", \"[EXP]\" : \"Zendikar-Expeditions\", \"[FEM]\" : \"Fallen-Empires\", \"[FRF]\" : \"Fate-Reforged\",\n",
    "    \"[FUT]\" : \"Future-Sight\", \"[HML]\" : \"Homelands\", \"[HOP]\" : \"Plancechase\", \"[ICE]\" : \"Ice-Age\", \"[INV]\" : \"Invasion\",\n",
    "    \"[ISD]\" : \"Innistrad\", \"[JOU]\" : \"Journey-into-Nyx\", \"[KTK]\" : \"Khans-of-Tarkir\", \"[LEA]\" : \"Alpha\", \n",
    "    \"[LEB]\" : \"Beta\", \"[LEG]\" : \"Legends\", \"[LGN]\" : \"Legions\", \"[LRW]\" : \"Lorwyn\", \"[M10]\" : \"Magic-2010\", \n",
    "    \"[M11]\" : \"Magic-2011\", \"[M12]\" : \"Magic-2012\", \"[M13]\" : \"Magic-2013\", \"[M14]\" : \"Magic-2014\", \n",
    "    \"[M15]\" : \"Magic-2015\", \"[MM2]\" : \"Modern-Masters-2015\", \"[MMA]\" : \"Modern-Masters\", \"[MMQ]\" : \"Mercadian-Masques\",\n",
    "    \"[MRD]\" : \"Mirrodin\", \"[NPH]\" : \"New-Phyrexia\", \"[ONS]\" : \"Onslaught\", \"[ORI]\" : \"Magic-Origins\", \n",
    "    \"[PC2]\" : \"Planechase-2012\", \"[PCY]\" : \"Prophecy\", \"[MIR]\" : \"Mirage\", \"[MBS]\" : \"Mirrodin-Besieged\",\n",
    "    \"[CN2]\" : \"Conspiracy-Take-the-Crown\", \"[THS]\" : \"Theros\", \"[GTC]\" : \"Gatecrash\", \"[TSP]\" : \"Time-Spiral\",\n",
    "    \"[OGW]\" : \"Oath-of-the-Gatewatch\", \"[SOI]\" : \"Shadows-Over-Innistrad\", \"[EMN]\" : \"Eldritch-Moon\", \n",
    "    \"[KLD]\" : \"Kaladesh\", \"[PLC]\" : \"Planar-Chaos\", \"[RAV]\" : \"Ravnica\"\n",
    "}"
   ]
  },
  {
   "cell_type": "code",
   "execution_count": 91,
   "metadata": {
    "collapsed": true
   },
   "outputs": [],
   "source": [
    "def checkset(set_list):\n",
    "    #filter sets until i get one in dict\n",
    "    for i in range(len(set_list)):\n",
    "        set_name1 = set_list[i]\n",
    "        set_name2 = \"[\"+set_name1+\"]\"\n",
    "        set_name2 = set_name2.replace(\" \",\"\")\n",
    "        try:\n",
    "            set_name2 = set_dict[set_name2]\n",
    "            break\n",
    "        except:\n",
    "            pass\n",
    "            \n",
    "    return set_name2"
   ]
  },
  {
   "cell_type": "markdown",
   "metadata": {},
   "source": [
    "# Test"
   ]
  },
  {
   "cell_type": "code",
   "execution_count": 92,
   "metadata": {
    "collapsed": false,
    "run_control": {
     "frozen": false,
     "read_only": false
    }
   },
   "outputs": [
    {
     "name": "stderr",
     "output_type": "stream",
     "text": [
      "/Users/KVASU/anaconda2/lib/python2.7/site-packages/sklearn/utils/validation.py:386: DeprecationWarning: Passing 1d arrays as data is deprecated in 0.17 and willraise ValueError in 0.19. Reshape your data either using X.reshape(-1, 1) if your data has a single feature or X.reshape(1, -1) if it contains a single sample.\n",
      "  DeprecationWarning)\n"
     ]
    },
    {
     "data": {
      "text/plain": [
       "2686"
      ]
     },
     "execution_count": 92,
     "metadata": {},
     "output_type": "execute_result"
    }
   ],
   "source": [
    "name = \"Avatar of Hope\"\n",
    "card_index = (magic_cards_fill[magic_cards_fill['name']==name]).index.tolist()\n",
    "card_index = card_index[0]\n",
    "\n",
    "distances, indices = knn.kneighbors(combined_df.iloc[card_index,:])\n",
    "\n",
    "index = indices[0]\n",
    "distance = distances[0]\n",
    "\n",
    "card_index"
   ]
  },
  {
   "cell_type": "code",
   "execution_count": 93,
   "metadata": {
    "collapsed": false,
    "run_control": {
     "frozen": false,
     "read_only": false
    }
   },
   "outputs": [
    {
     "name": "stdout",
     "output_type": "stream",
     "text": [
      "0.\n",
      "Avatar of Hope\n",
      "Distance Away: 0.0\n",
      "CMC: 8.0 Power/Toughness: 4/9\n",
      "Cost: {6}{W}{W}\n",
      "Type: Creature — Avatar\n",
      "Sets: [pPRE, PCY, 8ED]\n",
      "Text: If you have 3 or less life, Avatar of Hope costs {6} less to cast.\n",
      "Flying\n",
      "Avatar of Hope can block any number of creatures.\n",
      "Flavor: nan\n",
      "Link: http://www.cardkingdom.com/mtg/Prophecy/Avatar-of-Hope\n",
      "------------\n",
      "1.\n",
      "Filigree Angel\n",
      "Distance Away: 1.98326307295\n",
      "CMC: 8.0 Power/Toughness: 4/4\n",
      "Cost: {5}{W}{W}{U}\n",
      "Type: Artifact Creature — Angel\n",
      "Sets: [ARB, C13]\n",
      "Text: Flying\n",
      "When Filigree Angel enters the battlefield, you gain 3 life for each artifact you control.\n",
      "Flavor: \"I craved enlightenment, and Crucius's etherium opened my eyes. I would share my sight with you, but first you must believe.\"\n",
      "Link: http://www.cardkingdom.com/mtg/Alara-Reborn/Filigree-Angel\n",
      "------------\n",
      "2.\n",
      "Guardian of Vitu-Ghazi\n",
      "Distance Away: 1.98388081337\n",
      "CMC: 8.0 Power/Toughness: 4/7\n",
      "Cost: {6}{G}{W}\n",
      "Type: Creature — Elemental\n",
      "Sets: [RAV]\n",
      "Text: Convoke (Your creatures can help cast this spell. Each creature you tap while casting this spell pays for {1} or one mana of that creature's color.)\n",
      "Vigilance\n",
      "Flavor: It stands sentinel to the great City-Tree, home of the Selesnya Conclave.\n",
      "Link: http://www.cardkingdom.com/mtg/Ravnica/Guardian-of-Vitu-Ghazi\n",
      "------------\n",
      "3.\n",
      "Vexing Scuttler\n",
      "Distance Away: 1.98477868206\n",
      "CMC: 8.0 Power/Toughness: 4/5\n",
      "Cost: {8}\n",
      "Type: Creature — Eldrazi Crab\n",
      "Sets: [EMN]\n",
      "Text: Emerge {6}{U} (You may cast this spell by sacrificing a creature and paying the emerge cost reduced by that creature's converted mana cost.)\n",
      "When you cast Vexing Scuttler, you may return target instant or sorcery card from your graveyard to your hand.\n",
      "Flavor: nan\n",
      "Link: http://www.cardkingdom.com/mtg/Eldritch-Moon/Vexing-Scuttler\n",
      "------------\n",
      "4.\n",
      "Devouring Strossus\n",
      "Distance Away: 1.98537173241\n",
      "CMC: 8.0 Power/Toughness: 9/9\n",
      "Cost: {5}{B}{B}{B}\n",
      "Type: Creature — Horror\n",
      "Sets: [INV]\n",
      "Text: Flying, trample\n",
      "At the beginning of your upkeep, sacrifice a creature.\n",
      "Sacrifice a creature: Regenerate Devouring Strossus.\n",
      "Flavor: nan\n",
      "Link: http://www.cardkingdom.com/mtg/Invasion/Devouring-Strossus\n",
      "------------\n",
      "5.\n",
      "It of the Horrid Swarm\n",
      "Distance Away: 1.98616208773\n",
      "CMC: 8.0 Power/Toughness: 4/4\n",
      "Cost: {8}\n",
      "Type: Creature — Eldrazi Insect\n",
      "Sets: [EMN]\n",
      "Text: Emerge {6}{G} (You may cast this spell by sacrificing a creature and paying the emerge cost reduced by that creature's converted mana cost.)\n",
      "When you cast It of the Horrid Swarm, put two 1/1 green Insect creature tokens onto the battlefield.\n",
      "Flavor: nan\n",
      "Link: http://www.cardkingdom.com/mtg/Eldritch-Moon/It-of-the-Horrid-Swarm\n",
      "------------\n",
      "This is the chosen card and the 5 closest cards: ['Avatar of Hope', 'Filigree Angel', 'Guardian of Vitu-Ghazi', 'Vexing Scuttler', 'Devouring Strossus', 'It of the Horrid Swarm']\n"
     ]
    }
   ],
   "source": [
    "nearest_list = []\n",
    "i=0\n",
    "for k in range(0,len(index)):\n",
    "    card_name = magic_cards.iloc[index[k],16]\n",
    "    if card_name not in nearest_list:\n",
    "        if i<6:\n",
    "            nearest_list.append(card_name)\n",
    "            print (str(i) + \".\")\n",
    "            print (card_name)\n",
    "            print (\"Distance Away: \"+str(distance[k]))\n",
    "            print (\"CMC: \"+str(magic_cards.iloc[index[k],2])+\" Power/Toughness: \"+str(magic_cards.iloc[index[k],21])+\"/\"+str(magic_cards.iloc[index[k],34]))\n",
    "            print (\"Cost: \"+str(magic_cards.iloc[index[k],12]))\n",
    "            print (\"Type: \"+str(magic_cards.iloc[index[k],35]))\n",
    "            print (\"Sets: \"+str(magic_cards.iloc[index[k],22]))\n",
    "            print (\"Text: \"+str(magic_cards.iloc[index[k],32]))\n",
    "            print (\"Flavor: \"+str(magic_cards.iloc[index[k],5]))\n",
    "            \n",
    "            #setting up link\n",
    "            card_name2 = card_name.replace(\" \", \"-\").replace(\",\",\"\")\n",
    "            set_name = magic_cards.iloc[index[k],22]\n",
    "            set_list = set_name.replace(\"[\",\"\").replace(\"]\",\"\").split(\",\")\n",
    "            #filter sets until i get one in dict\n",
    "            set_name2 = checkset(set_list)  \n",
    "                \n",
    "            print (\"Link: \"+\"http://www.cardkingdom.com/mtg/\"+str(set_name2)+\"/\"+card_name2)\n",
    "            print (\"------------\")\n",
    "            i+=1\n",
    "        else:\n",
    "            continue\n",
    "    else:\n",
    "        continue\n",
    "\n",
    "print (\"This is the chosen card and the 5 closest cards: \"+str(nearest_list))"
   ]
  },
  {
   "cell_type": "code",
   "execution_count": null,
   "metadata": {
    "collapsed": true
   },
   "outputs": [],
   "source": []
  }
 ],
 "metadata": {
  "anaconda-cloud": {},
  "kernelspec": {
   "display_name": "Python [conda root]",
   "language": "python",
   "name": "conda-root-py"
  },
  "language_info": {
   "codemirror_mode": {
    "name": "ipython",
    "version": 2
   },
   "file_extension": ".py",
   "mimetype": "text/x-python",
   "name": "python",
   "nbconvert_exporter": "python",
   "pygments_lexer": "ipython2",
   "version": "2.7.12"
  }
 },
 "nbformat": 4,
 "nbformat_minor": 1
}
