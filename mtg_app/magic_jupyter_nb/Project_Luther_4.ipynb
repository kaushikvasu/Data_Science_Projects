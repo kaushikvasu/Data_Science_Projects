{
 "cells": [
  {
   "cell_type": "code",
   "execution_count": 1,
   "metadata": {
    "collapsed": false,
    "run_control": {
     "frozen": false,
     "read_only": false
    }
   },
   "outputs": [
    {
     "name": "stderr",
     "output_type": "stream",
     "text": [
      "/Users/KVASU/anaconda2/lib/python2.7/site-packages/gensim/utils.py:1015: UserWarning: Pattern library is not installed, lemmatization won't be available.\n",
      "  warnings.warn(\"Pattern library is not installed, lemmatization won't be available.\")\n"
     ]
    }
   ],
   "source": [
    "from __future__ import print_function, division\n",
    "import pandas as pd \n",
    "import numpy as np\n",
    "from matplotlib import pyplot as plt\n",
    "%matplotlib inline\n",
    "\n",
    "from gensim import corpora, models, similarities, matutils\n",
    "\n",
    "from sklearn.feature_extraction.text import CountVectorizer, TfidfVectorizer\n",
    "from sklearn.neighbors import KNeighborsClassifier\n",
    "from sklearn.neighbors import NearestNeighbors\n",
    "import sklearn.metrics.pairwise as smp"
   ]
  },
  {
   "cell_type": "code",
   "execution_count": 2,
   "metadata": {
    "collapsed": false,
    "run_control": {
     "frozen": false,
     "read_only": false
    }
   },
   "outputs": [
    {
     "name": "stderr",
     "output_type": "stream",
     "text": [
      "/Users/KVASU/anaconda2/lib/python2.7/site-packages/IPython/core/interactiveshell.py:2717: DtypeWarning: Columns (26) have mixed types. Specify dtype option on import or set low_memory=False.\n",
      "  interactivity=interactivity, compiler=compiler, result=result)\n"
     ]
    }
   ],
   "source": [
    "magic_cards = pd.read_csv(\"../MagicDatasets/Magic_Pandas_DF\")"
   ]
  },
  {
   "cell_type": "code",
   "execution_count": 3,
   "metadata": {
    "collapsed": true,
    "run_control": {
     "frozen": false,
     "read_only": false
    }
   },
   "outputs": [],
   "source": [
    "magic_cards = magic_cards.drop(magic_cards.columns[0], axis=1)"
   ]
  },
  {
   "cell_type": "code",
   "execution_count": 22,
   "metadata": {
    "collapsed": false,
    "run_control": {
     "frozen": false,
     "read_only": false
    }
   },
   "outputs": [
    {
     "data": {
      "text/plain": [
       "0                                               [JUD, 10E]\n",
       "1             [PO2, S99, INV, 8ED, 9ED, 10E, DDC, DD3_DVD]\n",
       "2                 [POR, PO2, EXO, S99, S00, 9ED, 10E, TPR]\n",
       "3                                               [USG, 10E]\n",
       "4                                [PO2, ODY, 10E, AVR, M14]\n",
       "5                                    [WTH, pFNM, 10E, C15]\n",
       "6                                     [ODY, 8ED, 9ED, 10E]\n",
       "7                                          [MMQ, 9ED, 10E]\n",
       "8                                          [STH, 10E, TPR]\n",
       "9                                               [5DN, 10E]\n",
       "10                                         [WTH, ATH, 10E]\n",
       "11                                              [MMQ, 10E]\n",
       "12                         [pMPR, DIS, 10E, M11, DDL, C14]\n",
       "13                          [ONS, 8ED, 9ED, 10E, ROE, M12]\n",
       "14                                              [CSP, 10E]\n",
       "15                                              [GPT, 10E]\n",
       "16                         [USG, pSUS, 7ED, 8ED, 9ED, 10E]\n",
       "17                                         [SOK, 10E, CN2]\n",
       "18                                              [BOK, 10E]\n",
       "19                                              [EXO, 10E]\n",
       "20                               [LEG, INV, 8ED, 9ED, 10E]\n",
       "21       [LEA, LEB, 2ED, CED, CEI, 3ED, 4ED, 5ED, 7ED, ...\n",
       "22                               [STH, 7ED, 8ED, 9ED, 10E]\n",
       "23                                [FEM, 10E, DDC, DD3_DVD]\n",
       "24                               [ICE, 5ED, 6ED, 7ED, 10E]\n",
       "25                                              [DST, 10E]\n",
       "26                                         [S99, 10E, DDF]\n",
       "27                                              [CSP, 10E]\n",
       "28                                         [ONS, 10E, C14]\n",
       "29                                              [JUD, 10E]\n",
       "                               ...                        \n",
       "31675                                          [pWPN, WWK]\n",
       "31676                                          [pWPN, WWK]\n",
       "31677                                          [pWPN, WWK]\n",
       "31678                           [ONS, pWPN, HOP, CMD, C14]\n",
       "31679                                          [pWPN, ROE]\n",
       "31680                                          [pWPN, ROE]\n",
       "31681                                          [pWPN, ROE]\n",
       "31682                                          [pWPN, ROE]\n",
       "31683                [pARL, STH, pWPN, M11, M12, DKA, PC2]\n",
       "31684                                [pWPN, M11, DDH, C14]\n",
       "31685                                          [pWPN, SOM]\n",
       "31686                                          [pWPN, SOM]\n",
       "31687                                          [pWPN, SOM]\n",
       "31688                                          [pWPN, MBS]\n",
       "31689                                          [pWPN, MBS]\n",
       "31690                                          [pWPN, MBS]\n",
       "31691                [pARL, STH, pWPN, M11, M12, DKA, PC2]\n",
       "31692                                [pWPN, M11, DDH, C14]\n",
       "31693                                          [pWPN, NPH]\n",
       "31694                                          [pWPN, NPH]\n",
       "31695                                          [pWPN, NPH]\n",
       "31696                                [pWPN, M12, PC2, M13]\n",
       "31697                 [ODY, pWPN, M12, PC2, M14, DDL, ORI]\n",
       "31698                                     [pWPN, M12, M15]\n",
       "31699                                     [pWPN, DKA, DDQ]\n",
       "31700                                          [pWPN, ISD]\n",
       "31701                                          [pWPN, DKA]\n",
       "31702                                          [pWPN, DKA]\n",
       "31703                                          [pWPN, ISD]\n",
       "31704                                     [pWPN, ISD, DDJ]\n",
       "Name: printings, dtype: object"
      ]
     },
     "execution_count": 22,
     "metadata": {},
     "output_type": "execute_result"
    }
   ],
   "source": [
    "magic_cards.iloc[:,22]"
   ]
  },
  {
   "cell_type": "code",
   "execution_count": 5,
   "metadata": {
    "collapsed": true,
    "run_control": {
     "frozen": false,
     "read_only": false
    }
   },
   "outputs": [],
   "source": [
    "magic_cards_fill = magic_cards.fillna(\" \")\n",
    "magic_cards_fill['combined_text'] = magic_cards_fill['name']+\" \"+magic_cards_fill['type']+\" \"+magic_cards_fill['colors']+\" \"+magic_cards_fill[\"text\"]+\" \"+magic_cards_fill[\"flavor\"]+\" \"+magic_cards_fill[\"rarity\"]\n",
    "magic_cards_s = magic_cards_fill['combined_text']\n",
    "magic_list = magic_cards_s.tolist\n",
    "magic_list = list(magic_cards_s)"
   ]
  },
  {
   "cell_type": "code",
   "execution_count": 6,
   "metadata": {
    "collapsed": true,
    "run_control": {
     "frozen": false,
     "read_only": false
    }
   },
   "outputs": [],
   "source": [
    "tfidf = TfidfVectorizer(stop_words=\"english\", \n",
    "                        token_pattern=\"\\\\b[a-zA-Z0-9][a-zA-Z0-9]+\\\\b\", \n",
    "                        min_df=10)\n"
   ]
  },
  {
   "cell_type": "code",
   "execution_count": 7,
   "metadata": {
    "collapsed": true,
    "run_control": {
     "frozen": false,
     "read_only": false
    }
   },
   "outputs": [],
   "source": [
    "tfidf_vecs = tfidf.fit_transform(magic_list)\n"
   ]
  },
  {
   "cell_type": "code",
   "execution_count": 8,
   "metadata": {
    "collapsed": true,
    "run_control": {
     "frozen": false,
     "read_only": false
    }
   },
   "outputs": [],
   "source": [
    "tfidif_df = pd.DataFrame(tfidf_vecs.todense(), \n",
    "             columns=tfidf.get_feature_names()\n",
    "            )"
   ]
  },
  {
   "cell_type": "code",
   "execution_count": 9,
   "metadata": {
    "collapsed": false,
    "run_control": {
     "frozen": false,
     "read_only": false
    }
   },
   "outputs": [
    {
     "name": "stdout",
     "output_type": "stream",
     "text": [
      "<class 'pandas.core.frame.DataFrame'>\n",
      "RangeIndex: 31705 entries, 0 to 31704\n",
      "Data columns (total 4 columns):\n",
      "cmc          31705 non-null float64\n",
      "loyalty      31705 non-null float64\n",
      "power        31705 non-null object\n",
      "toughness    31705 non-null object\n",
      "dtypes: float64(2), object(2)\n",
      "memory usage: 990.9+ KB\n"
     ]
    }
   ],
   "source": [
    "new_cards = magic_cards\n",
    "new_cards = new_cards.fillna(0.0)\n",
    "\n",
    "magic_cards_fill_cut = new_cards.iloc[:,[2,11,21,34]]\n",
    "magic_cards_fill_cut.info()\n",
    "\n",
    "dummied_df = pd.get_dummies(magic_cards_fill_cut)"
   ]
  },
  {
   "cell_type": "code",
   "execution_count": 10,
   "metadata": {
    "collapsed": true,
    "run_control": {
     "frozen": false,
     "read_only": false
    }
   },
   "outputs": [],
   "source": [
    "combined_df = pd.concat([dummied_df, tfidif_df], axis=1, join_axes=[magic_cards_fill_cut.index])"
   ]
  },
  {
   "cell_type": "code",
   "execution_count": 11,
   "metadata": {
    "collapsed": true,
    "run_control": {
     "frozen": false,
     "read_only": false
    }
   },
   "outputs": [],
   "source": [
    "model = NearestNeighbors(n_neighbors=20,n_jobs=-1)"
   ]
  },
  {
   "cell_type": "code",
   "execution_count": 12,
   "metadata": {
    "collapsed": false,
    "run_control": {
     "frozen": false,
     "read_only": false
    }
   },
   "outputs": [
    {
     "name": "stderr",
     "output_type": "stream",
     "text": [
      "/Users/KVASU/anaconda2/lib/python2.7/site-packages/pandas/indexes/base.py:1237: UnicodeWarning: Unicode equal comparison failed to convert both arguments to Unicode - interpreting them as being unequal\n",
      "  return key in self._engine\n"
     ]
    }
   ],
   "source": [
    "knn = model.fit(combined_df)"
   ]
  },
  {
   "cell_type": "code",
   "execution_count": null,
   "metadata": {
    "collapsed": true
   },
   "outputs": [],
   "source": []
  },
  {
   "cell_type": "code",
   "execution_count": 25,
   "metadata": {
    "collapsed": true
   },
   "outputs": [],
   "source": [
    "# ATH, CN2, CNS, CON, CPK, CSP, CST, DDE, DDM, DDN, DDP, DDQ, DDR, DGM, DIS, DKM, DPA, DST, EMA, EMN, FRF_UGIN,\n",
    "# GPT, GTC, H09, ITP, JUD, KLD, MBS, MD1, ME2, ME3, ME4, MED, MGB, MIR, MOR, MPS, NMS, ODY, OGW, PD3, PLS\n",
    "\n",
    "\n",
    "set_dict = {\n",
    "    \"[10E]\" : \"Tenth Edition\", \"[2ED]\" : \"Unlimited\", \"[3ED]\" : \"Revised\", \"[4ED]\" : \"Fourth Edition\",\n",
    "    \"[5DN]\" : \"Fifth Dawn\", \"[5ED]\" : \"Fifth Edition\", \"[6ED]\" : \"Sixth Edition\", \"[7ED]\" : \"Seventh Edition\",\n",
    "    \"[8ED]\" : \"Eighth Edition\", \"[9ED]\" : \"Ninth Edition\", \"[ALA]\" : \"Shards of Alara\", \"[ALL]\" : \"Alliances\",\n",
    "    \"[APC]\" : \"Apocalypse\", \"[ARB]\" : \"Alara Reborn\", \"[ARC]\" : \"Archenemy\", \"[ARN]\" : \"Arabian Nights\",\n",
    "    \"[ATQ]\" : \"Aniquities\", \"[AVR]\" : \"Avacyn Restored\", \"[BFZ]\" : \"Battle for Zendikar\", \n",
    "    \"[BNG]\" : \"Born of the Gods\", \"[BOK]\" : \"Betrayers of Kamigawa\", \"[BRB]\" : \"Battle Royale\", \"[BTB]\" : \"Beatdown\",              \"[C13]\" : \"Commander 2013\",\n",
    "    \"[C14]\" : \"Commander 2014\", \"[C15]\" : \"Commander 2015\", \"[CED]\" : \"Collectors' Edition\",\n",
    "    \"[CEI]\" : \"International Edition\", \"[CHK]\" : \"Champions of Kamigawa\", \"[CHR]\" : \"Chronicles\",\n",
    "    \"[CM1]\" : \"Commander's Arsenal\", \"[CMD]\" : \"Commander\", \"[C13]\" : \"Commander 2013\",\n",
    "    \"[DD2]\" : \"Duel Decks: Jace vs. Chandra\", \"[DD3_DVD]\" : \"Duel Decks: Divine vs. Demonic\", \n",
    "    \"[DD3_EVG]\" : \"Duel Decks: Elves vs. Goblins\", \"[DD3_GVL]\" : \"Duel Decks: Garruk vs. Liliana\",\n",
    "    \"[DD3_JVC]\" : \"Duel Decks: Jace vs. Chandra\", \"[DDC]\" : \"Duel Decks: Divine vs. Demonic\",\n",
    "    \"[DDD]\" : \"Duel Decks: Garruk vs. Liliana\", \"[DDF]\" : \"Duel Decks: Elspeth vs. Tezzeret\",\n",
    "    \"[DDG]\" : \"Duel Decks: Knights vs. Dragons\", \"[DDH]\" : \"Duel Deck: Ajani vs. Nicol Bolas\",\n",
    "    \"[DDI]\" : \"Duel Decks: Venser vs. Koth\", \"[DDJ]\" : \"Duel Decks: Izzet vs. Golgari\", \n",
    "    \"[DDK]\" : \"Duel Decks: Sorin vs. Tibalt\", \"[DDL]\" : \"Duel Decks: Heroes vs. Monsters\",\n",
    "    \"[DDO]\" : \"Duel Decks: Elspeth vs. Kiora\", \"[DKA]\" : \"Dark Ascension\", \"[FVD]\" : \"From the Vault: Dragons\",\n",
    "    \"[DRK]\" : \"The Dark\", \"[DTK]\" : \"Dragons of Tarkir\", \"[EVE]\" : \"Eventide\", \"[EVG]\" : \"Duel Decks: Elves vs. Goblins\",\n",
    "    \"[EXO]\" : \"Exodus\", \"[EXP]\" : \"Zendikar Expeditions\", \"[FEM]\" : \"Fallen Empires\", \"[FRF]\" : \"Fate Reforged\",\n",
    "    \"[FUT]\" : \"Future Sight\", \"[HML]\" : \"Homelands\", \"[HOP]\" : \"Plancechase\", \"[ICE]\" : \"Ice Age\", \"[INV]\" : \"Invasion\",\n",
    "    \"[ISD]\" : \"Innistrad\", \"[JOU]\" : \"Journey into Nyx\", \"[KTK]\" : \"Khans of Tarkir\", \"[LEA]\" : \"Alpha\", \n",
    "    \"[LEB]\" : \"Beta\", \"[LEG]\" : \"Legends\", \"[LGN]\" : \"Legions\", \"[LRW]\" : \"Lorwyn\", \"[M10]\" : \"Magic 2010\", \n",
    "    \"[M11]\" : \"Magic 2011\", \"[M12]\" : \"Magic 2012\", \"[M13]\" : \"Magic 2013\", \"[M14]\" : \"Magic 2014\", \n",
    "    \"[M15]\" : \"Magic 2015\", \"[MM2]\" : \"Modern Masters 2015\", \"[MMA]\" : \"Modern Masters\", \"[MMQ]\" : \"Mercadian Masques\",\n",
    "    \"[MRD]\" : \"Mirrodin\", \"[NPH]\" : \"New Phyrexia\", \"[ONS]\" : \"Onslaught\", \"[ORI]\" : \"Magic Origins\", \n",
    "    \"[PC2]\" : \"Planarchase 2012\", \"[PCY]\" : \"Prophecy\", \"[KLD]\" : \"Kaladesh\"\n",
    "}"
   ]
  },
  {
   "cell_type": "code",
   "execution_count": 75,
   "metadata": {
    "collapsed": false,
    "run_control": {
     "frozen": false,
     "read_only": false
    }
   },
   "outputs": [
    {
     "name": "stderr",
     "output_type": "stream",
     "text": [
      "/Users/KVASU/anaconda2/lib/python2.7/site-packages/sklearn/utils/validation.py:386: DeprecationWarning: Passing 1d arrays as data is deprecated in 0.17 and willraise ValueError in 0.19. Reshape your data either using X.reshape(-1, 1) if your data has a single feature or X.reshape(1, -1) if it contains a single sample.\n",
      "  DeprecationWarning)\n"
     ]
    },
    {
     "data": {
      "text/plain": [
       "15626"
      ]
     },
     "execution_count": 75,
     "metadata": {},
     "output_type": "execute_result"
    }
   ],
   "source": [
    "name = \"Saheeli Rai\"\n",
    "card_index = (magic_cards_fill[magic_cards_fill['name']==name]).index.tolist()\n",
    "card_index = card_index[0]\n",
    "\n",
    "distances, indices = knn.kneighbors(combined_df.iloc[card_index,:])\n",
    "\n",
    "index = indices[0]\n",
    "distance = distances[0]\n",
    "\n",
    "card_index"
   ]
  },
  {
   "cell_type": "code",
   "execution_count": 83,
   "metadata": {
    "collapsed": false
   },
   "outputs": [
    {
     "ename": "KeyError",
     "evalue": "0",
     "output_type": "error",
     "traceback": [
      "\u001b[0;31m---------------------------------------------------------------------------\u001b[0m",
      "\u001b[0;31mKeyError\u001b[0m                                  Traceback (most recent call last)",
      "\u001b[0;32m<ipython-input-83-6975c30cab7a>\u001b[0m in \u001b[0;36m<module>\u001b[0;34m()\u001b[0m\n\u001b[1;32m      5\u001b[0m \u001b[0mset_name\u001b[0m\u001b[0;34m\u001b[0m\u001b[0m\n\u001b[1;32m      6\u001b[0m \u001b[0;31m# set_name_list = set_name.split()\u001b[0m\u001b[0;34m\u001b[0m\u001b[0;34m\u001b[0m\u001b[0m\n\u001b[0;32m----> 7\u001b[0;31m \u001b[0mset_name\u001b[0m\u001b[0;34m[\u001b[0m\u001b[0;36m0\u001b[0m\u001b[0;34m]\u001b[0m\u001b[0;34m\u001b[0m\u001b[0m\n\u001b[0m",
      "\u001b[0;32m/Users/KVASU/anaconda2/lib/python2.7/site-packages/pandas/core/series.pyc\u001b[0m in \u001b[0;36m__getitem__\u001b[0;34m(self, key)\u001b[0m\n\u001b[1;32m    581\u001b[0m         \u001b[0mkey\u001b[0m \u001b[0;34m=\u001b[0m \u001b[0mcom\u001b[0m\u001b[0;34m.\u001b[0m\u001b[0m_apply_if_callable\u001b[0m\u001b[0;34m(\u001b[0m\u001b[0mkey\u001b[0m\u001b[0;34m,\u001b[0m \u001b[0mself\u001b[0m\u001b[0;34m)\u001b[0m\u001b[0;34m\u001b[0m\u001b[0m\n\u001b[1;32m    582\u001b[0m         \u001b[0;32mtry\u001b[0m\u001b[0;34m:\u001b[0m\u001b[0;34m\u001b[0m\u001b[0m\n\u001b[0;32m--> 583\u001b[0;31m             \u001b[0mresult\u001b[0m \u001b[0;34m=\u001b[0m \u001b[0mself\u001b[0m\u001b[0;34m.\u001b[0m\u001b[0mindex\u001b[0m\u001b[0;34m.\u001b[0m\u001b[0mget_value\u001b[0m\u001b[0;34m(\u001b[0m\u001b[0mself\u001b[0m\u001b[0;34m,\u001b[0m \u001b[0mkey\u001b[0m\u001b[0;34m)\u001b[0m\u001b[0;34m\u001b[0m\u001b[0m\n\u001b[0m\u001b[1;32m    584\u001b[0m \u001b[0;34m\u001b[0m\u001b[0m\n\u001b[1;32m    585\u001b[0m             \u001b[0;32mif\u001b[0m \u001b[0;32mnot\u001b[0m \u001b[0mlib\u001b[0m\u001b[0;34m.\u001b[0m\u001b[0misscalar\u001b[0m\u001b[0;34m(\u001b[0m\u001b[0mresult\u001b[0m\u001b[0;34m)\u001b[0m\u001b[0;34m:\u001b[0m\u001b[0;34m\u001b[0m\u001b[0m\n",
      "\u001b[0;32m/Users/KVASU/anaconda2/lib/python2.7/site-packages/pandas/indexes/base.pyc\u001b[0m in \u001b[0;36mget_value\u001b[0;34m(self, series, key)\u001b[0m\n\u001b[1;32m   1978\u001b[0m         \u001b[0;32mtry\u001b[0m\u001b[0;34m:\u001b[0m\u001b[0;34m\u001b[0m\u001b[0m\n\u001b[1;32m   1979\u001b[0m             return self._engine.get_value(s, k,\n\u001b[0;32m-> 1980\u001b[0;31m                                           tz=getattr(series.dtype, 'tz', None))\n\u001b[0m\u001b[1;32m   1981\u001b[0m         \u001b[0;32mexcept\u001b[0m \u001b[0mKeyError\u001b[0m \u001b[0;32mas\u001b[0m \u001b[0me1\u001b[0m\u001b[0;34m:\u001b[0m\u001b[0;34m\u001b[0m\u001b[0m\n\u001b[1;32m   1982\u001b[0m             \u001b[0;32mif\u001b[0m \u001b[0mlen\u001b[0m\u001b[0;34m(\u001b[0m\u001b[0mself\u001b[0m\u001b[0;34m)\u001b[0m \u001b[0;34m>\u001b[0m \u001b[0;36m0\u001b[0m \u001b[0;32mand\u001b[0m \u001b[0mself\u001b[0m\u001b[0;34m.\u001b[0m\u001b[0minferred_type\u001b[0m \u001b[0;32min\u001b[0m \u001b[0;34m[\u001b[0m\u001b[0;34m'integer'\u001b[0m\u001b[0;34m,\u001b[0m \u001b[0;34m'boolean'\u001b[0m\u001b[0;34m]\u001b[0m\u001b[0;34m:\u001b[0m\u001b[0;34m\u001b[0m\u001b[0m\n",
      "\u001b[0;32mpandas/index.pyx\u001b[0m in \u001b[0;36mpandas.index.IndexEngine.get_value (pandas/index.c:3332)\u001b[0;34m()\u001b[0m\n",
      "\u001b[0;32mpandas/index.pyx\u001b[0m in \u001b[0;36mpandas.index.IndexEngine.get_value (pandas/index.c:3035)\u001b[0;34m()\u001b[0m\n",
      "\u001b[0;32mpandas/index.pyx\u001b[0m in \u001b[0;36mpandas.index.IndexEngine.get_loc (pandas/index.c:4018)\u001b[0;34m()\u001b[0m\n",
      "\u001b[0;32mpandas/hashtable.pyx\u001b[0m in \u001b[0;36mpandas.hashtable.Int64HashTable.get_item (pandas/hashtable.c:6610)\u001b[0;34m()\u001b[0m\n",
      "\u001b[0;32mpandas/hashtable.pyx\u001b[0m in \u001b[0;36mpandas.hashtable.Int64HashTable.get_item (pandas/hashtable.c:6554)\u001b[0;34m()\u001b[0m\n",
      "\u001b[0;31mKeyError\u001b[0m: 0"
     ]
    }
   ],
   "source": [
    "saheeli_df = magic_cards_fill[magic_cards_fill['name']==name]\n",
    "saheeli_df\n",
    "saheeli_df.iloc[:,22]\n",
    "set_name = saheeli_df.iloc[:,22]\n",
    "set_name\n",
    "# set_name_list = set_name.split()\n",
    "set_name[0]"
   ]
  },
  {
   "cell_type": "code",
   "execution_count": 49,
   "metadata": {
    "collapsed": false
   },
   "outputs": [
    {
     "name": "stdout",
     "output_type": "stream",
     "text": [
      "<type 'list'>\n",
      "['[', 'A', 'L', 'A', ',', ' ', 'D', 'D', 'F', ',', ' ', 'M', 'M', 'A', ',', ' ', 'M', 'D', '1', ']']\n",
      "http://www.cardkingdom.com/mtg/[ALA, DDF, MMA, MD1]/\n"
     ]
    }
   ],
   "source": [
    "set_name = list(magic_cards.iloc[card_index,22])\n",
    "\n",
    "print (type(set_name))\n",
    "print (set_name)\n",
    "try:\n",
    "    set_name = set_dict[magic_cards.iloc[card_index,22]]\n",
    "except:\n",
    "    set_name = magic_cards.iloc[card_index,22]\n",
    "\n",
    "link = \"http://www.cardkingdom.com/mtg/\"+str(set_name)+\"/\"\n",
    "print (link)"
   ]
  },
  {
   "cell_type": "code",
   "execution_count": 24,
   "metadata": {
    "collapsed": false,
    "run_control": {
     "frozen": false,
     "read_only": false
    }
   },
   "outputs": [
    {
     "name": "stdout",
     "output_type": "stream",
     "text": [
      "0.\n",
      "Elspeth, Knight-Errant\n",
      "Distance Away: 0.0\n",
      "CMC: 4.0 Power/Toughness: nan/nan\n",
      "Cost: {2}{W}{W}\n",
      "Type: Planeswalker — Elspeth\n",
      "Sets: [ALA, DDF, MMA, MD1]\n",
      "Text: +1: Put a 1/1 white Soldier creature token onto the battlefield.\n",
      "+1: Target creature gets +3/+3 and gains flying until end of turn.\n",
      "−8: You get an emblem with \"Artifacts, creatures, enchantments, and lands you control have indestructible.\"\n",
      "Flavor: nan\n",
      "------------\n",
      "1.\n",
      "Ajani Steadfast\n",
      "Distance Away: 1.18545311408\n",
      "CMC: 4.0 Power/Toughness: nan/nan\n",
      "Cost: {3}{W}\n",
      "Type: Planeswalker — Ajani\n",
      "Sets: [pMEI, M15]\n",
      "Text: +1: Until end of turn, up to one target creature gets +1/+1 and gains first strike, vigilance, and lifelink.\n",
      "−2: Put a +1/+1 counter on each creature you control and a loyalty counter on each other planeswalker you control.\n",
      "−7: You get an emblem with \"If a source would deal damage to you or a planeswalker you control, prevent all but 1 of that damage.\"\n",
      "Flavor: nan\n",
      "------------\n",
      "2.\n",
      "Gideon, Ally of Zendikar\n",
      "Distance Away: 1.20268889827\n",
      "CMC: 4.0 Power/Toughness: nan/nan\n",
      "Cost: {2}{W}{W}\n",
      "Type: Planeswalker — Gideon\n",
      "Sets: [BFZ]\n",
      "Text: +1: Until end of turn, Gideon, Ally of Zendikar becomes a 5/5 Human Soldier Ally creature with indestructible that's still a planeswalker. Prevent all damage that would be dealt to him this turn.\n",
      "0: Put a 2/2 white Knight Ally creature token onto the battlefield.\n",
      "−4: You get an emblem with \"Creatures you control get +1/+1.\"\n",
      "Flavor: nan\n",
      "------------\n",
      "3.\n",
      "Sorin, Solemn Visitor\n",
      "Distance Away: 1.21419613643\n",
      "CMC: 4.0 Power/Toughness: nan/nan\n",
      "Cost: {2}{W}{B}\n",
      "Type: Planeswalker — Sorin\n",
      "Sets: [KTK]\n",
      "Text: +1: Until your next turn, creatures you control get +1/+0 and gain lifelink.\n",
      "−2: Put a 2/2 black Vampire creature token with flying onto the battlefield.\n",
      "−6: You get an emblem with \"At the beginning of each opponent's upkeep, that player sacrifices a creature.\"\n",
      "Flavor: nan\n",
      "------------\n",
      "4.\n",
      "Sarkhan Vol\n",
      "Distance Away: 1.24852155023\n",
      "CMC: 4.0 Power/Toughness: nan/nan\n",
      "Cost: {2}{R}{G}\n",
      "Type: Planeswalker — Sarkhan\n",
      "Sets: [ALA, MMA]\n",
      "Text: +1: Creatures you control get +1/+1 and gain haste until end of turn.\n",
      "−2: Gain control of target creature until end of turn. Untap that creature. It gains haste until end of turn.\n",
      "−6: Put five 4/4 red Dragon creature tokens with flying onto the battlefield.\n",
      "Flavor: nan\n",
      "------------\n",
      "5.\n",
      "Ajani Goldmane\n",
      "Distance Away: 1.26116173124\n",
      "CMC: 4.0 Power/Toughness: nan/nan\n",
      "Cost: {2}{W}{W}\n",
      "Type: Planeswalker — Ajani\n",
      "Sets: [pPRO, LRW, M10, M11]\n",
      "Text: +1: You gain 2 life.\n",
      "−1: Put a +1/+1 counter on each creature you control. Those creatures gain vigilance until end of turn.\n",
      "−6: Put a white Avatar creature token onto the battlefield. It has \"This creature's power and toughness are each equal to your life total.\"\n",
      "Flavor: nan\n",
      "------------\n",
      "This is the chosen card and the 5 closest cards: ['Elspeth, Knight-Errant', 'Ajani Steadfast', 'Gideon, Ally of Zendikar', 'Sorin, Solemn Visitor', 'Sarkhan Vol', 'Ajani Goldmane']\n"
     ]
    }
   ],
   "source": [
    "nearest_list = []\n",
    "i=0\n",
    "for k in range(0,len(index)):\n",
    "    card_name = magic_cards.iloc[index[k],16]\n",
    "    if card_name not in nearest_list:\n",
    "        if i<6:\n",
    "            nearest_list.append(card_name)\n",
    "            print (str(i) + \".\")\n",
    "            print (card_name)\n",
    "            print (\"Distance Away: \"+str(distance[k]))\n",
    "            print (\"CMC: \"+str(magic_cards.iloc[index[k],2])+\" Power/Toughness: \"+str(magic_cards.iloc[index[k],21])+\"/\"+str(magic_cards.iloc[index[k],21]))\n",
    "            print (\"Cost: \"+str(magic_cards.iloc[index[k],12]))\n",
    "            print (\"Type: \"+str(magic_cards.iloc[index[k],35]))\n",
    "            print (\"Sets: \"+str(magic_cards.iloc[index[k],22]))\n",
    "            print (\"Text: \"+str(magic_cards.iloc[index[k],32]))\n",
    "            print (\"Flavor: \"+str(magic_cards.iloc[index[k],5]))\n",
    "            print (\"Link: \")+\n",
    "            print (\"------------\")\n",
    "            i+=1\n",
    "        else:\n",
    "            continue\n",
    "    else:\n",
    "        continue\n",
    "\n",
    "print (\"This is the chosen card and the 5 closest cards: \"+str(nearest_list))"
   ]
  }
 ],
 "metadata": {
  "anaconda-cloud": {},
  "kernelspec": {
   "display_name": "Python [conda root]",
   "language": "python",
   "name": "conda-root-py"
  },
  "language_info": {
   "codemirror_mode": {
    "name": "ipython",
    "version": 2
   },
   "file_extension": ".py",
   "mimetype": "text/x-python",
   "name": "python",
   "nbconvert_exporter": "python",
   "pygments_lexer": "ipython2",
   "version": "2.7.12"
  }
 },
 "nbformat": 4,
 "nbformat_minor": 1
}
