{
 "cells": [
  {
   "cell_type": "markdown",
   "metadata": {
    "nbpresent": {
     "id": "3279bdb9-c10a-4b0c-9bc8-61d02e8106f0"
    },
    "run_control": {
     "frozen": false,
     "read_only": false
    },
    "slideshow": {
     "slide_type": "slide"
    }
   },
   "source": [
    "# Project Fletcher\n",
    "# Magic the Gathering: The Trading Card Game\n",
    "\n",
    "### Kaushik Vasudevan 11/11/16"
   ]
  },
  {
   "cell_type": "code",
   "execution_count": 22,
   "metadata": {
    "collapsed": false,
    "run_control": {
     "frozen": false,
     "read_only": false
    }
   },
   "outputs": [],
   "source": [
    "from __future__ import print_function, division\n",
    "import pandas as pd \n",
    "import numpy as np\n",
    "from matplotlib import pyplot as plt\n",
    "%matplotlib inline\n",
    "\n",
    "from gensim import corpora, models, similarities, matutils\n",
    "\n",
    "from sklearn import datasets\n",
    "from sklearn.feature_extraction.text import CountVectorizer, TfidfVectorizer\n",
    "from sklearn.naive_bayes import MultinomialNB\n",
    "from sklearn.cross_validation import train_test_split\n",
    "from sklearn.cluster import KMeans\n",
    "from sklearn.neighbors import KNeighborsClassifier\n",
    "from sklearn.neighbors import NearestNeighbors\n",
    "import sklearn.metrics.pairwise as smp\n",
    "\n",
    "from sklearn.decomposition import NMF\n",
    "\n",
    "from sklearn.externals import joblib\n",
    "\n",
    "# import logging\n",
    "# logging.basicConfig(format='%(asctime)s : %(levelname)s : %(message)s', level=logging.INFO)\n"
   ]
  },
  {
   "cell_type": "markdown",
   "metadata": {
    "nbpresent": {
     "id": "01e7b9c9-e360-408c-8050-6f71c8a9a245"
    },
    "slideshow": {
     "slide_type": "slide"
    }
   },
   "source": [
    "# Data\n",
    "Pulled from Kaggle dataset."
   ]
  },
  {
   "cell_type": "code",
   "execution_count": 23,
   "metadata": {
    "collapsed": false,
    "run_control": {
     "frozen": false,
     "read_only": false
    },
    "slideshow": {
     "slide_type": "skip"
    }
   },
   "outputs": [],
   "source": [
    "magic_cards = pd.read_csv(\"MagicDatasets/Magic_Pandas_DF\")"
   ]
  },
  {
   "cell_type": "code",
   "execution_count": 24,
   "metadata": {
    "collapsed": false,
    "run_control": {
     "frozen": false,
     "read_only": false
    },
    "slideshow": {
     "slide_type": "subslide"
    }
   },
   "outputs": [],
   "source": [
    "magic_cards = magic_cards.drop(magic_cards.columns[0], axis=1)"
   ]
  },
  {
   "cell_type": "markdown",
   "metadata": {
    "nbpresent": {
     "id": "a034ce37-fbd2-40b9-888e-1ab32c286a45"
    },
    "slideshow": {
     "slide_type": "slide"
    }
   },
   "source": [
    "# Unsupervised Learning Models\n",
    "- Used ______ model\n",
    "- Used ______ model\n",
    "- Used ______ model"
   ]
  },
  {
   "cell_type": "code",
   "execution_count": 25,
   "metadata": {
    "collapsed": false,
    "run_control": {
     "frozen": false,
     "read_only": false
    }
   },
   "outputs": [],
   "source": [
    "magic_cards_fill = magic_cards.fillna(\" \")\n",
    "magic_cards_fill['combined_text'] = magic_cards_fill['name']+\" \"+magic_cards_fill['type']+\" \"+magic_cards_fill['colors']+\" \"+magic_cards_fill[\"text\"]+\" \"+magic_cards_fill[\"flavor\"]+\" \"+magic_cards_fill[\"rarity\"]\n",
    "magic_cards_s = magic_cards_fill['combined_text']\n",
    "magic_list = magic_cards_s.tolist\n",
    "magic_list = list(magic_cards_s)"
   ]
  },
  {
   "cell_type": "code",
   "execution_count": 26,
   "metadata": {
    "collapsed": false,
    "run_control": {
     "frozen": false,
     "read_only": false
    }
   },
   "outputs": [],
   "source": [
    "tfidf = TfidfVectorizer(stop_words=\"english\", \n",
    "                        token_pattern=\"\\\\b[a-zA-Z0-9][a-zA-Z0-9]+\\\\b\", \n",
    "                        min_df=10)\n"
   ]
  },
  {
   "cell_type": "code",
   "execution_count": 27,
   "metadata": {
    "collapsed": true,
    "run_control": {
     "frozen": false,
     "read_only": false
    }
   },
   "outputs": [],
   "source": [
    "tfidf_vecs = tfidf.fit_transform(magic_list)\n"
   ]
  },
  {
   "cell_type": "markdown",
   "metadata": {},
   "source": [
    "# Combining text dataframe and original dataframe"
   ]
  },
  {
   "cell_type": "code",
   "execution_count": 28,
   "metadata": {
    "collapsed": true,
    "run_control": {
     "frozen": false,
     "read_only": false
    }
   },
   "outputs": [],
   "source": [
    "tfidif_df = pd.DataFrame(tfidf_vecs.todense(), \n",
    "             columns=tfidf.get_feature_names()\n",
    "            )"
   ]
  },
  {
   "cell_type": "code",
   "execution_count": 29,
   "metadata": {
    "collapsed": false,
    "run_control": {
     "frozen": false,
     "read_only": false
    }
   },
   "outputs": [
    {
     "name": "stdout",
     "output_type": "stream",
     "text": [
      "<class 'pandas.core.frame.DataFrame'>\n",
      "RangeIndex: 31705 entries, 0 to 31704\n",
      "Data columns (total 4 columns):\n",
      "cmc          31705 non-null float64\n",
      "loyalty      31705 non-null float64\n",
      "power        31705 non-null object\n",
      "toughness    31705 non-null object\n",
      "dtypes: float64(2), object(2)\n",
      "memory usage: 990.9+ KB\n"
     ]
    }
   ],
   "source": [
    "new_cards = magic_cards\n",
    "new_cards = new_cards.fillna(0.0)\n",
    "\n",
    "magic_cards_fill_cut = new_cards.iloc[:,[2,11,21,34]]\n",
    "magic_cards_fill_cut.info()\n",
    "\n",
    "dummied_df = pd.get_dummies(magic_cards_fill_cut)"
   ]
  },
  {
   "cell_type": "code",
   "execution_count": 30,
   "metadata": {
    "collapsed": false,
    "run_control": {
     "frozen": false,
     "read_only": false
    }
   },
   "outputs": [],
   "source": [
    "combined_df = pd.concat([dummied_df, tfidif_df], axis=1, join_axes=[magic_cards_fill_cut.index])"
   ]
  },
  {
   "cell_type": "markdown",
   "metadata": {},
   "source": [
    "## KNN Model"
   ]
  },
  {
   "cell_type": "code",
   "execution_count": 31,
   "metadata": {
    "collapsed": false,
    "run_control": {
     "frozen": false,
     "read_only": false
    }
   },
   "outputs": [],
   "source": [
    "model = NearestNeighbors(n_neighbors=20,n_jobs=-1)"
   ]
  },
  {
   "cell_type": "code",
   "execution_count": 32,
   "metadata": {
    "collapsed": false,
    "run_control": {
     "frozen": false,
     "read_only": false
    }
   },
   "outputs": [],
   "source": [
    "knn = model.fit(combined_df)\n"
   ]
  },
  {
   "cell_type": "markdown",
   "metadata": {},
   "source": [
    "## LSI Model"
   ]
  },
  {
   "cell_type": "code",
   "execution_count": 33,
   "metadata": {
    "collapsed": false,
    "run_control": {
     "frozen": false,
     "read_only": false
    }
   },
   "outputs": [],
   "source": [
    "tfidf_corpus = matutils.Sparse2Corpus(tfidf_vecs.transpose())\n",
    "\n",
    "id2word = dict((v, k) for k, v in tfidf.vocabulary_.items())\n",
    "\n",
    "id2word = corpora.Dictionary.from_corpus(tfidf_corpus, id2word=id2word)"
   ]
  },
  {
   "cell_type": "code",
   "execution_count": 34,
   "metadata": {
    "collapsed": false,
    "run_control": {
     "frozen": false,
     "read_only": false
    }
   },
   "outputs": [],
   "source": [
    "lsi = models.LsiModel(tfidf_corpus, id2word=id2word, num_topics=300)"
   ]
  },
  {
   "cell_type": "code",
   "execution_count": 35,
   "metadata": {
    "collapsed": false,
    "run_control": {
     "frozen": false,
     "read_only": false
    }
   },
   "outputs": [],
   "source": [
    "lsi_corpus = lsi[tfidf_corpus]\n",
    "\n",
    "doc_vecs = [doc for doc in lsi_corpus]"
   ]
  },
  {
   "cell_type": "code",
   "execution_count": 36,
   "metadata": {
    "collapsed": false,
    "run_control": {
     "frozen": false,
     "read_only": false
    }
   },
   "outputs": [],
   "source": [
    "sim_index = similarities.MatrixSimilarity(doc_vecs, num_features=len(id2word))"
   ]
  },
  {
   "cell_type": "markdown",
   "metadata": {},
   "source": [
    "# Card Thesaurus"
   ]
  },
  {
   "cell_type": "markdown",
   "metadata": {},
   "source": [
    "### Pick a card:"
   ]
  },
  {
   "cell_type": "code",
   "execution_count": 37,
   "metadata": {
    "collapsed": false,
    "run_control": {
     "frozen": false,
     "read_only": false
    }
   },
   "outputs": [
    {
     "name": "stderr",
     "output_type": "stream",
     "text": [
      "/Users/KVASU/anaconda2/lib/python2.7/site-packages/sklearn/utils/validation.py:386: DeprecationWarning: Passing 1d arrays as data is deprecated in 0.17 and willraise ValueError in 0.19. Reshape your data either using X.reshape(-1, 1) if your data has a single feature or X.reshape(1, -1) if it contains a single sample.\n",
      "  DeprecationWarning)\n"
     ]
    }
   ],
   "source": [
    "name = \"Elspeth, Knight-Errant\"\n",
    "card_index = (magic_cards_fill[magic_cards_fill['name']==name]).index.tolist()\n",
    "card_index = card_index[0]\n",
    "\n",
    "distances, indices = knn.kneighbors(combined_df.iloc[card_index,:])\n",
    "\n",
    "index = indices[0]\n",
    "distance = distances[0]"
   ]
  },
  {
   "cell_type": "markdown",
   "metadata": {},
   "source": [
    "### Use LSI model:"
   ]
  },
  {
   "cell_type": "code",
   "execution_count": 38,
   "metadata": {
    "collapsed": false,
    "run_control": {
     "frozen": false,
     "read_only": false
    },
    "scrolled": true
   },
   "outputs": [
    {
     "name": "stdout",
     "output_type": "stream",
     "text": [
      "0.\n",
      "Elspeth, Knight-Errant\n",
      "Score: 1.0\n",
      "Text on Card: Elspeth, Knight-Errant Planeswalker — Elspeth [White] +1: Put a 1/1 white Soldier creature token onto the battlefield.\n",
      "+1: Target creature gets +3/+3 and gains flying until end of turn.\n",
      "−8: You get an emblem with \"Artifacts, creatures, enchantments, and lands you control have indestructible.\"   Mythic Rare\n",
      "------------\n",
      "1.\n",
      "Elspeth, Sun's Champion\n",
      "Score: 0.571108\n",
      "Text on Card: Elspeth, Sun's Champion Planeswalker — Elspeth [White] +1: Put three 1/1 white Soldier creature tokens onto the battlefield.\n",
      "−3: Destroy all creatures with power 4 or greater.\n",
      "−7: You get an emblem with \"Creatures you control get +2/+2 and have flying.\"   Mythic Rare\n",
      "------------\n",
      "2.\n",
      "Elspeth Tirel\n",
      "Score: 0.54558\n",
      "Text on Card: Elspeth Tirel Planeswalker — Elspeth [White] +2: You gain 1 life for each creature you control.\n",
      "−2: Put three 1/1 white Soldier creature tokens onto the battlefield.\n",
      "−5: Destroy all other permanents except for lands and tokens.   Mythic Rare\n",
      "------------\n",
      "3.\n",
      "Ajani Steadfast\n",
      "Score: 0.498507\n",
      "Text on Card: Ajani Steadfast Planeswalker — Ajani [White] +1: Until end of turn, up to one target creature gets +1/+1 and gains first strike, vigilance, and lifelink.\n",
      "−2: Put a +1/+1 counter on each creature you control and a loyalty counter on each other planeswalker you control.\n",
      "−7: You get an emblem with \"If a source would deal damage to you or a planeswalker you control, prevent all but 1 of that damage.\"   Mythic Rare\n",
      "------------\n",
      "4.\n",
      "Sunspire Gatekeepers\n",
      "Score: 0.491182\n",
      "Text on Card: Sunspire Gatekeepers Creature — Human Soldier [White] When Sunspire Gatekeepers enters the battlefield, if you control two or more Gates, put a 2/2 white Knight creature token with vigilance onto the battlefield. \"You will pass with respect, or you will not pass at all.\" Common\n",
      "------------\n",
      "5.\n",
      "Gideon Jura\n",
      "Score: 0.485488\n",
      "Text on Card: Gideon Jura Planeswalker — Gideon [White] +2: During target opponent's next turn, creatures that player controls attack Gideon Jura if able.\n",
      "−2: Destroy target tapped creature.\n",
      "0: Until end of turn, Gideon Jura becomes a 6/6 Human Soldier creature that's still a planeswalker. Prevent all damage that would be dealt to him this turn.   Mythic Rare\n",
      "------------\n",
      "This is the chosen card and the 5 closest cards: ['Elspeth, Knight-Errant', \"Elspeth, Sun's Champion\", 'Elspeth Tirel', 'Ajani Steadfast', 'Sunspire Gatekeepers', 'Gideon Jura']\n"
     ]
    }
   ],
   "source": [
    "# Let's take a look at how we did\n",
    "sims = sorted(enumerate(sim_index[doc_vecs[card_index]]), key=lambda item: -item[1])\n",
    "\n",
    "nearest_list = []\n",
    "i = 0\n",
    "for sim_doc_id, sim_score in sims[0:20]: \n",
    "    card_name = magic_cards.iloc[sim_doc_id,16]\n",
    "    if card_name not in nearest_list:\n",
    "        if i<6:\n",
    "            nearest_list.append(card_name)\n",
    "            print (str(i) + \".\")\n",
    "            print (card_name)\n",
    "            print(\"Score: \" + str(sim_score))\n",
    "            print(\"Text on Card: \" + magic_list[sim_doc_id])\n",
    "            print (\"------------\")\n",
    "            i+=1\n",
    "        else:\n",
    "            continue\n",
    "    else:\n",
    "        continue\n",
    "\n",
    "print (\"This is the chosen card and the 5 closest cards: \"+str(nearest_list))"
   ]
  },
  {
   "cell_type": "markdown",
   "metadata": {},
   "source": [
    "### Use KNN model:"
   ]
  },
  {
   "cell_type": "code",
   "execution_count": 39,
   "metadata": {
    "collapsed": false,
    "run_control": {
     "frozen": false,
     "read_only": false
    }
   },
   "outputs": [
    {
     "name": "stdout",
     "output_type": "stream",
     "text": [
      "0.\n",
      "Elspeth, Knight-Errant\n",
      "Distance Away: 0.0\n",
      "CMC: 4.0 Power/Toughness: nan/nan\n",
      "Type: Planeswalker — Elspeth\n",
      "Text: +1: Put a 1/1 white Soldier creature token onto the battlefield.\n",
      "+1: Target creature gets +3/+3 and gains flying until end of turn.\n",
      "−8: You get an emblem with \"Artifacts, creatures, enchantments, and lands you control have indestructible.\"\n",
      "Flavor: nan\n",
      "------------\n",
      "1.\n",
      "Ajani Steadfast\n",
      "Distance Away: 1.18545311408\n",
      "CMC: 4.0 Power/Toughness: nan/nan\n",
      "Type: Planeswalker — Ajani\n",
      "Text: +1: Until end of turn, up to one target creature gets +1/+1 and gains first strike, vigilance, and lifelink.\n",
      "−2: Put a +1/+1 counter on each creature you control and a loyalty counter on each other planeswalker you control.\n",
      "−7: You get an emblem with \"If a source would deal damage to you or a planeswalker you control, prevent all but 1 of that damage.\"\n",
      "Flavor: nan\n",
      "------------\n",
      "2.\n",
      "Gideon, Ally of Zendikar\n",
      "Distance Away: 1.20268889827\n",
      "CMC: 4.0 Power/Toughness: nan/nan\n",
      "Type: Planeswalker — Gideon\n",
      "Text: +1: Until end of turn, Gideon, Ally of Zendikar becomes a 5/5 Human Soldier Ally creature with indestructible that's still a planeswalker. Prevent all damage that would be dealt to him this turn.\n",
      "0: Put a 2/2 white Knight Ally creature token onto the battlefield.\n",
      "−4: You get an emblem with \"Creatures you control get +1/+1.\"\n",
      "Flavor: nan\n",
      "------------\n",
      "3.\n",
      "Sorin, Solemn Visitor\n",
      "Distance Away: 1.21419613643\n",
      "CMC: 4.0 Power/Toughness: nan/nan\n",
      "Type: Planeswalker — Sorin\n",
      "Text: +1: Until your next turn, creatures you control get +1/+0 and gain lifelink.\n",
      "−2: Put a 2/2 black Vampire creature token with flying onto the battlefield.\n",
      "−6: You get an emblem with \"At the beginning of each opponent's upkeep, that player sacrifices a creature.\"\n",
      "Flavor: nan\n",
      "------------\n",
      "4.\n",
      "Sarkhan Vol\n",
      "Distance Away: 1.24852155023\n",
      "CMC: 4.0 Power/Toughness: nan/nan\n",
      "Type: Planeswalker — Sarkhan\n",
      "Text: +1: Creatures you control get +1/+1 and gain haste until end of turn.\n",
      "−2: Gain control of target creature until end of turn. Untap that creature. It gains haste until end of turn.\n",
      "−6: Put five 4/4 red Dragon creature tokens with flying onto the battlefield.\n",
      "Flavor: nan\n",
      "------------\n",
      "5.\n",
      "Ajani Goldmane\n",
      "Distance Away: 1.26116173124\n",
      "CMC: 4.0 Power/Toughness: nan/nan\n",
      "Type: Planeswalker — Ajani\n",
      "Text: +1: You gain 2 life.\n",
      "−1: Put a +1/+1 counter on each creature you control. Those creatures gain vigilance until end of turn.\n",
      "−6: Put a white Avatar creature token onto the battlefield. It has \"This creature's power and toughness are each equal to your life total.\"\n",
      "Flavor: nan\n",
      "------------\n",
      "This is the chosen card and the 5 closest cards: ['Elspeth, Knight-Errant', 'Ajani Steadfast', 'Gideon, Ally of Zendikar', 'Sorin, Solemn Visitor', 'Sarkhan Vol', 'Ajani Goldmane']\n"
     ]
    }
   ],
   "source": [
    "nearest_list = []\n",
    "i=0\n",
    "for k in range(0,len(index)):\n",
    "    card_name = magic_cards.iloc[index[k],16]\n",
    "    if card_name not in nearest_list:\n",
    "        if i<6:\n",
    "            nearest_list.append(card_name)\n",
    "            print (str(i) + \".\")\n",
    "            print (card_name)\n",
    "            print (\"Distance Away: \"+str(distance[k]))\n",
    "            print (\"CMC: \"+str(magic_cards.iloc[index[k],2])+\" Power/Toughness: \"+str(magic_cards.iloc[index[k],21])+\"/\"+str(magic_cards.iloc[index[k],21]))\n",
    "            print (\"Type: \"+str(magic_cards.iloc[index[k],35]))\n",
    "            print (\"Text: \"+str(magic_cards.iloc[index[k],32]))\n",
    "            print (\"Flavor: \"+str(magic_cards.iloc[index[k],5]))\n",
    "            print (\"------------\")\n",
    "            i+=1\n",
    "        else:\n",
    "            continue\n",
    "    else:\n",
    "        continue\n",
    "\n",
    "print (\"This is the chosen card and the 5 closest cards: \"+str(nearest_list))"
   ]
  },
  {
   "cell_type": "markdown",
   "metadata": {
    "collapsed": true,
    "run_control": {
     "frozen": false,
     "read_only": false
    }
   },
   "source": [
    "## Store models"
   ]
  },
  {
   "cell_type": "code",
   "execution_count": 40,
   "metadata": {
    "collapsed": false,
    "run_control": {
     "frozen": false,
     "read_only": false
    }
   },
   "outputs": [],
   "source": [
    "#joblib.dump(knn, 'models/magic_knn.pkl')"
   ]
  },
  {
   "cell_type": "code",
   "execution_count": 41,
   "metadata": {
    "collapsed": false,
    "run_control": {
     "frozen": false,
     "read_only": false
    }
   },
   "outputs": [],
   "source": [
    "#joblib.dump(sim_index, 'models/magic_lsi.pkl')"
   ]
  },
  {
   "cell_type": "code",
   "execution_count": 42,
   "metadata": {
    "collapsed": true,
    "run_control": {
     "frozen": false,
     "read_only": false
    }
   },
   "outputs": [],
   "source": [
    "#combined_df.to_csv('Magic_Combined_DF',encoding='utf-8')"
   ]
  },
  {
   "cell_type": "code",
   "execution_count": null,
   "metadata": {
    "collapsed": true,
    "run_control": {
     "frozen": false,
     "read_only": false
    }
   },
   "outputs": [],
   "source": []
  },
  {
   "cell_type": "code",
   "execution_count": null,
   "metadata": {
    "collapsed": true,
    "run_control": {
     "frozen": false,
     "read_only": false
    }
   },
   "outputs": [],
   "source": []
  },
  {
   "cell_type": "code",
   "execution_count": null,
   "metadata": {
    "collapsed": true,
    "run_control": {
     "frozen": false,
     "read_only": false
    }
   },
   "outputs": [],
   "source": []
  },
  {
   "cell_type": "code",
   "execution_count": null,
   "metadata": {
    "collapsed": true,
    "run_control": {
     "frozen": false,
     "read_only": false
    }
   },
   "outputs": [],
   "source": []
  },
  {
   "cell_type": "markdown",
   "metadata": {
    "collapsed": false,
    "run_control": {
     "frozen": false,
     "read_only": false
    }
   },
   "source": [
    "## Try NMF\n",
    "\n",
    "nmf_data = (combined_df + 1).values\n",
    "\n",
    "model = NMF(n_components=300)\n",
    "\n",
    "nmf = model.fit(nmf_data)\n",
    "\n",
    "type(nmf)\n",
    "\n",
    "## Try KDTree\n",
    "\n",
    "from sklearn.neighbors import KDTree\n",
    "\n",
    "kdt = KDTree(nmf, leaf_size=30, metric='euclidean')\n",
    "kdt.query(nmf, k=5, return_distance=False)"
   ]
  },
  {
   "cell_type": "code",
   "execution_count": null,
   "metadata": {
    "collapsed": true,
    "run_control": {
     "frozen": false,
     "read_only": false
    }
   },
   "outputs": [],
   "source": []
  }
 ],
 "metadata": {
  "anaconda-cloud": {},
  "kernelspec": {
   "display_name": "Python [conda root]",
   "language": "python",
   "name": "conda-root-py"
  },
  "language_info": {
   "codemirror_mode": {
    "name": "ipython",
    "version": 2
   },
   "file_extension": ".py",
   "mimetype": "text/x-python",
   "name": "python",
   "nbconvert_exporter": "python",
   "pygments_lexer": "ipython2",
   "version": "2.7.12"
  },
  "nbpresent": {
   "slides": {
    "1329007f-155d-4a63-b528-c6417ed52a24": {
     "id": "1329007f-155d-4a63-b528-c6417ed52a24",
     "prev": "e7e5819b-52b1-4552-95bc-33adcb68466c",
     "regions": {
      "6f4fc4e4-4a14-4d33-90b6-21f4923b9456": {
       "attrs": {
        "height": 0.4,
        "width": 0.8,
        "x": 0.1,
        "y": 0.5
       },
       "content": {
        "cell": "df772ed9-f1ea-492e-b0dc-3004844942d4",
        "part": "whole"
       },
       "id": "6f4fc4e4-4a14-4d33-90b6-21f4923b9456"
      },
      "7d638904-bbf6-4268-b43e-934451efa418": {
       "attrs": {
        "height": 0.8,
        "width": 0.8,
        "x": 0.1,
        "y": 0.1
       },
       "content": {
        "cell": "a034ce37-fbd2-40b9-888e-1ab32c286a45",
        "part": "whole"
       },
       "id": "7d638904-bbf6-4268-b43e-934451efa418"
      }
     }
    },
    "4af6a2fe-8a77-4aa8-b74d-3550d3f71bd0": {
     "id": "4af6a2fe-8a77-4aa8-b74d-3550d3f71bd0",
     "prev": "c2db9f03-de34-4f3e-b513-25e2cfe533b2",
     "regions": {
      "0a71e695-6d64-44cc-ac9e-88c6fd180069": {
       "attrs": {
        "height": 0.8,
        "width": 0.8,
        "x": 0.1,
        "y": 0.1
       },
       "content": {
        "cell": "01e7b9c9-e360-408c-8050-6f71c8a9a245",
        "part": "whole"
       },
       "id": "0a71e695-6d64-44cc-ac9e-88c6fd180069"
      }
     }
    },
    "c2db9f03-de34-4f3e-b513-25e2cfe533b2": {
     "id": "c2db9f03-de34-4f3e-b513-25e2cfe533b2",
     "prev": null,
     "regions": {
      "755adc35-c6e7-4199-84cb-e75cc3f1a5eb": {
       "attrs": {
        "height": 0.8,
        "width": 0.8,
        "x": 0.1,
        "y": 0.1
       },
       "content": {
        "cell": "3279bdb9-c10a-4b0c-9bc8-61d02e8106f0",
        "part": "whole"
       },
       "id": "755adc35-c6e7-4199-84cb-e75cc3f1a5eb"
      }
     }
    },
    "e7e5819b-52b1-4552-95bc-33adcb68466c": {
     "id": "e7e5819b-52b1-4552-95bc-33adcb68466c",
     "prev": "4af6a2fe-8a77-4aa8-b74d-3550d3f71bd0",
     "regions": {
      "28ebfc20-906b-43f4-aa9b-e9b468266deb": {
       "attrs": {
        "height": 0.8,
        "width": 0.8,
        "x": 0.1,
        "y": 0.1
       },
       "content": {
        "cell": "d4634f57-132d-4d63-8042-090b107eb57d",
        "part": "whole"
       },
       "id": "28ebfc20-906b-43f4-aa9b-e9b468266deb"
      }
     }
    }
   },
   "themes": {
    "default": "60cfc3ea-cbf9-41a3-8dc0-d02381503566",
    "theme": {
     "4f708f0f-51b2-4fd5-8d43-623304cee0d8": {
      "backgrounds": {
       "backgroundColor": {
        "background-color": "backgroundColor",
        "id": "backgroundColor"
       }
      },
      "id": "4f708f0f-51b2-4fd5-8d43-623304cee0d8",
      "palette": {
       "backgroundColor": {
        "id": "backgroundColor",
        "rgb": [
         34,
         34,
         34
        ]
       },
       "headingColor": {
        "id": "headingColor",
        "rgb": [
         238,
         238,
         238
        ]
       },
       "linkColor": {
        "id": "linkColor",
        "rgb": [
         170,
         34,
         51
        ]
       },
       "mainColor": {
        "id": "mainColor",
        "rgb": [
         238,
         238,
         238
        ]
       }
      },
      "rules": {
       "a": {
        "color": "linkColor"
       },
       "h1": {
        "color": "headingColor",
        "font-family": "Ubuntu",
        "font-size": 7
       },
       "h2": {
        "color": "headingColor",
        "font-family": "Ubuntu",
        "font-size": 5
       },
       "h3": {
        "color": "headingColor",
        "font-family": "Ubuntu",
        "font-size": 3.75
       },
       "h4": {
        "color": "headingColor",
        "font-family": "Ubuntu",
        "font-size": 3
       },
       "h5": {
        "color": "headingColor",
        "font-family": "Ubuntu"
       },
       "h6": {
        "color": "headingColor",
        "font-family": "Ubuntu"
       },
       "h7": {
        "color": "headingColor",
        "font-family": "Ubuntu"
       },
       "li": {
        "color": "mainColor",
        "font-family": "Ubuntu",
        "font-size": 5
       },
       "p": {
        "color": "mainColor",
        "font-family": "Ubuntu",
        "font-size": 5
       }
      },
      "text-base": {
       "color": "mainColor",
       "font-family": "Ubuntu",
       "font-size": 5
      }
     },
     "60cfc3ea-cbf9-41a3-8dc0-d02381503566": {
      "id": "60cfc3ea-cbf9-41a3-8dc0-d02381503566",
      "palette": {
       "19cc588f-0593-49c9-9f4b-e4d7cc113b1c": {
        "id": "19cc588f-0593-49c9-9f4b-e4d7cc113b1c",
        "rgb": [
         252,
         252,
         252
        ]
       },
       "31af15d2-7e15-44c5-ab5e-e04b16a89eff": {
        "id": "31af15d2-7e15-44c5-ab5e-e04b16a89eff",
        "rgb": [
         68,
         68,
         68
        ]
       },
       "50f92c45-a630-455b-aec3-788680ec7410": {
        "id": "50f92c45-a630-455b-aec3-788680ec7410",
        "rgb": [
         155,
         177,
         192
        ]
       },
       "c5cc3653-2ee1-402a-aba2-7caae1da4f6c": {
        "id": "c5cc3653-2ee1-402a-aba2-7caae1da4f6c",
        "rgb": [
         43,
         126,
         184
        ]
       },
       "efa7f048-9acb-414c-8b04-a26811511a21": {
        "id": "efa7f048-9acb-414c-8b04-a26811511a21",
        "rgb": [
         25.118061674008803,
         73.60176211453744,
         107.4819383259912
        ]
       }
      },
      "rules": {
       "blockquote": {
        "color": "50f92c45-a630-455b-aec3-788680ec7410"
       },
       "code": {
        "font-family": "Anonymous Pro"
       },
       "h1": {
        "color": "c5cc3653-2ee1-402a-aba2-7caae1da4f6c",
        "font-family": "Lato",
        "font-size": 8
       },
       "h2": {
        "color": "c5cc3653-2ee1-402a-aba2-7caae1da4f6c",
        "font-family": "Lato",
        "font-size": 6
       },
       "h3": {
        "color": "50f92c45-a630-455b-aec3-788680ec7410",
        "font-family": "Lato",
        "font-size": 5.5
       },
       "h4": {
        "color": "c5cc3653-2ee1-402a-aba2-7caae1da4f6c",
        "font-family": "Lato",
        "font-size": 5
       },
       "h5": {
        "font-family": "Lato"
       },
       "h6": {
        "font-family": "Lato"
       },
       "h7": {
        "font-family": "Lato"
       },
       "pre": {
        "font-family": "Anonymous Pro",
        "font-size": 4
       }
      },
      "text-base": {
       "font-family": "Merriweather",
       "font-size": 4
      }
     },
     "b5af4250-bdef-48c8-998d-a156bf19fde5": {
      "backgrounds": {
       "backgroundColor": {
        "background-color": "backgroundColor",
        "id": "backgroundColor"
       }
      },
      "id": "b5af4250-bdef-48c8-998d-a156bf19fde5",
      "palette": {
       "backgroundColor": {
        "id": "backgroundColor",
        "rgb": [
         253,
         246,
         227
        ]
       },
       "headingColor": {
        "id": "headingColor",
        "rgb": [
         88,
         110,
         117
        ]
       },
       "linkColor": {
        "id": "linkColor",
        "rgb": [
         38,
         139,
         210
        ]
       },
       "mainColor": {
        "id": "mainColor",
        "rgb": [
         101,
         123,
         131
        ]
       }
      },
      "rules": {
       "a": {
        "color": "linkColor"
       },
       "h1": {
        "color": "headingColor",
        "font-family": "Oswald",
        "font-size": 7
       },
       "h2": {
        "color": "headingColor",
        "font-family": "Oswald",
        "font-size": 5
       },
       "h3": {
        "color": "headingColor",
        "font-family": "Oswald",
        "font-size": 3.75
       },
       "h4": {
        "color": "headingColor",
        "font-family": "Oswald",
        "font-size": 3
       },
       "h5": {
        "color": "headingColor",
        "font-family": "Oswald"
       },
       "h6": {
        "color": "headingColor",
        "font-family": "Oswald"
       },
       "h7": {
        "color": "headingColor",
        "font-family": "Oswald"
       },
       "li": {
        "color": "mainColor",
        "font-family": "Lato",
        "font-size": 5
       },
       "p": {
        "color": "mainColor",
        "font-family": "Lato",
        "font-size": 5
       }
      },
      "text-base": {
       "color": "mainColor",
       "font-family": "Lato",
       "font-size": 5
      }
     }
    }
   }
  }
 },
 "nbformat": 4,
 "nbformat_minor": 1
}
